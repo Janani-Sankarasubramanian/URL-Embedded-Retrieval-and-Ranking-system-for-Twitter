{
  "nbformat": 4,
  "nbformat_minor": 0,
  "metadata": {
    "colab": {
      "name": "Twitter_API.ipynb",
      "provenance": [],
      "collapsed_sections": []
    },
    "kernelspec": {
      "name": "python3",
      "display_name": "Python 3"
    },
    "language_info": {
      "name": "python"
    }
  },
  "cells": [
    {
      "cell_type": "code",
      "execution_count": null,
      "metadata": {
        "id": "PhMaAPk4jTM7",
        "colab": {
          "base_uri": "https://localhost:8080/"
        },
        "outputId": "55aa2552-b518-45e1-bfbe-e506fc85b1f8"
      },
      "outputs": [
        {
          "output_type": "stream",
          "name": "stdout",
          "text": [
            "Get:1 https://cloud.r-project.org/bin/linux/ubuntu bionic-cran40/ InRelease [3,626 B]\n",
            "Ign:2 https://developer.download.nvidia.com/compute/cuda/repos/ubuntu1804/x86_64  InRelease\n",
            "Ign:3 https://developer.download.nvidia.com/compute/machine-learning/repos/ubuntu1804/x86_64  InRelease\n",
            "Hit:4 https://developer.download.nvidia.com/compute/cuda/repos/ubuntu1804/x86_64  Release\n",
            "Hit:5 https://developer.download.nvidia.com/compute/machine-learning/repos/ubuntu1804/x86_64  Release\n",
            "Get:6 http://security.ubuntu.com/ubuntu bionic-security InRelease [88.7 kB]\n",
            "Hit:7 http://archive.ubuntu.com/ubuntu bionic InRelease\n",
            "Hit:8 http://ppa.launchpad.net/c2d4u.team/c2d4u4.0+/ubuntu bionic InRelease\n",
            "Get:9 http://archive.ubuntu.com/ubuntu bionic-updates InRelease [88.7 kB]\n",
            "Hit:10 http://ppa.launchpad.net/cran/libgit2/ubuntu bionic InRelease\n",
            "Hit:11 http://ppa.launchpad.net/deadsnakes/ppa/ubuntu bionic InRelease\n",
            "Get:13 http://archive.ubuntu.com/ubuntu bionic-backports InRelease [74.6 kB]\n",
            "Hit:14 http://ppa.launchpad.net/graphics-drivers/ppa/ubuntu bionic InRelease\n",
            "Get:16 http://security.ubuntu.com/ubuntu bionic-security/main amd64 Packages [2,732 kB]\n",
            "Get:17 http://archive.ubuntu.com/ubuntu bionic-updates/main amd64 Packages [3,167 kB]\n",
            "Get:18 http://security.ubuntu.com/ubuntu bionic-security/universe amd64 Packages [1,496 kB]\n",
            "Get:19 http://security.ubuntu.com/ubuntu bionic-security/restricted amd64 Packages [909 kB]\n",
            "Get:20 http://archive.ubuntu.com/ubuntu bionic-updates/universe amd64 Packages [2,272 kB]\n",
            "Get:21 http://archive.ubuntu.com/ubuntu bionic-updates/restricted amd64 Packages [942 kB]\n",
            "Fetched 11.8 MB in 7s (1,786 kB/s)\n",
            "Reading package lists...\n"
          ]
        }
      ],
      "source": [
        "!apt-get -q update"
      ]
    },
    {
      "cell_type": "code",
      "source": [
        "!pip install -q requests tldextract urlextract pprintpp pandas twitter unshortenit contractions rank_bm25 rbo python-terrier"
      ],
      "metadata": {
        "id": "wkwkz7bdjVav",
        "colab": {
          "base_uri": "https://localhost:8080/"
        },
        "outputId": "339767ba-741f-4cfc-898e-b25dfc75d126"
      },
      "execution_count": null,
      "outputs": [
        {
          "output_type": "stream",
          "name": "stdout",
          "text": [
            "\u001b[K     |████████████████████████████████| 87 kB 2.3 MB/s \n",
            "\u001b[K     |████████████████████████████████| 50 kB 5.3 MB/s \n",
            "\u001b[K     |████████████████████████████████| 97 kB 3.2 MB/s \n",
            "\u001b[K     |████████████████████████████████| 106 kB 51.7 MB/s \n",
            "\u001b[K     |████████████████████████████████| 287 kB 47.6 MB/s \n",
            "\u001b[K     |████████████████████████████████| 1.1 MB 45.7 MB/s \n",
            "\u001b[K     |████████████████████████████████| 69 kB 6.1 MB/s \n",
            "\u001b[K     |████████████████████████████████| 297 kB 67.8 MB/s \n",
            "\u001b[K     |████████████████████████████████| 46 kB 3.9 MB/s \n",
            "\u001b[K     |████████████████████████████████| 45 kB 2.7 MB/s \n",
            "\u001b[K     |████████████████████████████████| 596 kB 51.5 MB/s \n",
            "\u001b[K     |████████████████████████████████| 1.2 MB 25.7 MB/s \n",
            "\u001b[?25h  Installing build dependencies ... \u001b[?25l\u001b[?25hdone\n",
            "  Getting requirements to build wheel ... \u001b[?25l\u001b[?25hdone\n",
            "    Preparing wheel metadata ... \u001b[?25l\u001b[?25hdone\n",
            "\u001b[K     |████████████████████████████████| 72 kB 1.3 MB/s \n",
            "\u001b[K     |████████████████████████████████| 126 kB 69.6 MB/s \n",
            "\u001b[K     |████████████████████████████████| 294 kB 67.6 MB/s \n",
            "\u001b[K     |████████████████████████████████| 6.4 MB 35.8 MB/s \n",
            "\u001b[K     |████████████████████████████████| 287 kB 44.6 MB/s \n",
            "\u001b[K     |████████████████████████████████| 59 kB 6.7 MB/s \n",
            "\u001b[?25h  Building wheel for unshortenit (setup.py) ... \u001b[?25l\u001b[?25hdone\n",
            "  Building wheel for python-terrier (setup.py) ... \u001b[?25l\u001b[?25hdone\n",
            "  Building wheel for ir-measures (setup.py) ... \u001b[?25l\u001b[?25hdone\n",
            "  Building wheel for cwl-eval (setup.py) ... \u001b[?25l\u001b[?25hdone\n",
            "  Building wheel for cbor (setup.py) ... \u001b[?25l\u001b[?25hdone\n",
            "  Building wheel for unlzw3 (PEP 517) ... \u001b[?25l\u001b[?25hdone\n",
            "  Building wheel for warc3-wet-clueweb09 (setup.py) ... \u001b[?25l\u001b[?25hdone\n",
            "  Building wheel for chest (setup.py) ... \u001b[?25l\u001b[?25hdone\n",
            "  Building wheel for wget (setup.py) ... \u001b[?25l\u001b[?25hdone\n"
          ]
        }
      ]
    },
    {
      "cell_type": "code",
      "source": [
        "!git clone https://github.com/tweepy/tweepy.git\n",
        "%cd tweepy/\n",
        "!pip install .\n",
        "%cd .."
      ],
      "metadata": {
        "id": "yo2Wr_vHjZZk",
        "colab": {
          "base_uri": "https://localhost:8080/"
        },
        "outputId": "39d965ae-619e-4f93-ca2b-b5d8065bd345"
      },
      "execution_count": null,
      "outputs": [
        {
          "output_type": "stream",
          "name": "stdout",
          "text": [
            "Cloning into 'tweepy'...\n",
            "remote: Enumerating objects: 13471, done.\u001b[K\n",
            "remote: Counting objects: 100% (3914/3914), done.\u001b[K\n",
            "remote: Compressing objects: 100% (1091/1091), done.\u001b[K\n",
            "remote: Total 13471 (delta 2888), reused 3802 (delta 2795), pack-reused 9557\u001b[K\n",
            "Receiving objects: 100% (13471/13471), 12.85 MiB | 14.41 MiB/s, done.\n",
            "Resolving deltas: 100% (9489/9489), done.\n",
            "/content/tweepy\n",
            "Processing /content/tweepy\n",
            "\u001b[33m  DEPRECATION: A future pip version will change local packages to be built in-place without first copying to a temporary directory. We recommend you use --use-feature=in-tree-build to test your packages with this new behavior before it becomes the default.\n",
            "   pip 21.3 will remove support for this functionality. You can find discussion regarding this at https://github.com/pypa/pip/issues/7555.\u001b[0m\n",
            "Requirement already satisfied: oauthlib<4,>=3.2.0 in /usr/local/lib/python3.7/dist-packages (from tweepy==4.8.0) (3.2.0)\n",
            "Collecting requests<3,>=2.27.0\n",
            "  Downloading requests-2.27.1-py2.py3-none-any.whl (63 kB)\n",
            "\u001b[K     |████████████████████████████████| 63 kB 1.2 MB/s \n",
            "\u001b[?25hRequirement already satisfied: requests-oauthlib<2,>=1.2.0 in /usr/local/lib/python3.7/dist-packages (from tweepy==4.8.0) (1.3.1)\n",
            "Requirement already satisfied: charset-normalizer~=2.0.0 in /usr/local/lib/python3.7/dist-packages (from requests<3,>=2.27.0->tweepy==4.8.0) (2.0.12)\n",
            "Requirement already satisfied: certifi>=2017.4.17 in /usr/local/lib/python3.7/dist-packages (from requests<3,>=2.27.0->tweepy==4.8.0) (2021.10.8)\n",
            "Requirement already satisfied: urllib3<1.27,>=1.21.1 in /usr/local/lib/python3.7/dist-packages (from requests<3,>=2.27.0->tweepy==4.8.0) (1.24.3)\n",
            "Requirement already satisfied: idna<4,>=2.5 in /usr/local/lib/python3.7/dist-packages (from requests<3,>=2.27.0->tweepy==4.8.0) (2.10)\n",
            "Building wheels for collected packages: tweepy\n",
            "  Building wheel for tweepy (setup.py) ... \u001b[?25l\u001b[?25hdone\n",
            "  Created wheel for tweepy: filename=tweepy-4.8.0-py3-none-any.whl size=77719 sha256=f4230d0de152c15610140faff2c92cba3f328ae30f01ad6066116bb771c2b060\n",
            "  Stored in directory: /tmp/pip-ephem-wheel-cache-8qz4xd1c/wheels/5e/ac/21/16d34f5f532b9fb2963f1422353f0075a0b3a193d5648a7c00\n",
            "Successfully built tweepy\n",
            "Installing collected packages: requests, tweepy\n",
            "  Attempting uninstall: requests\n",
            "    Found existing installation: requests 2.23.0\n",
            "    Uninstalling requests-2.23.0:\n",
            "      Successfully uninstalled requests-2.23.0\n",
            "  Attempting uninstall: tweepy\n",
            "    Found existing installation: tweepy 3.10.0\n",
            "    Uninstalling tweepy-3.10.0:\n",
            "      Successfully uninstalled tweepy-3.10.0\n",
            "\u001b[31mERROR: pip's dependency resolver does not currently take into account all the packages that are installed. This behaviour is the source of the following dependency conflicts.\n",
            "google-colab 1.0.0 requires requests~=2.23.0, but you have requests 2.27.1 which is incompatible.\n",
            "datascience 0.10.6 requires folium==0.2.1, but you have folium 0.8.3 which is incompatible.\u001b[0m\n",
            "Successfully installed requests-2.27.1 tweepy-4.8.0\n",
            "/content\n"
          ]
        }
      ]
    },
    {
      "cell_type": "code",
      "source": [
        "!pip install -U selenium"
      ],
      "metadata": {
        "colab": {
          "base_uri": "https://localhost:8080/"
        },
        "id": "0lXSpSshCKL6",
        "outputId": "848c88f6-c74c-4bd6-a686-ef3455f4e8ee"
      },
      "execution_count": null,
      "outputs": [
        {
          "output_type": "stream",
          "name": "stdout",
          "text": [
            "Collecting selenium\n",
            "  Downloading selenium-4.1.3-py3-none-any.whl (968 kB)\n",
            "\u001b[K     |████████████████████████████████| 968 kB 4.1 MB/s \n",
            "\u001b[?25hCollecting trio-websocket~=0.9\n",
            "  Downloading trio_websocket-0.9.2-py3-none-any.whl (16 kB)\n",
            "Collecting trio~=0.17\n",
            "  Downloading trio-0.20.0-py3-none-any.whl (359 kB)\n",
            "\u001b[K     |████████████████████████████████| 359 kB 55.2 MB/s \n",
            "\u001b[?25hCollecting urllib3[secure,socks]~=1.26\n",
            "  Downloading urllib3-1.26.9-py2.py3-none-any.whl (138 kB)\n",
            "\u001b[K     |████████████████████████████████| 138 kB 53.3 MB/s \n",
            "\u001b[?25hCollecting sniffio\n",
            "  Downloading sniffio-1.2.0-py3-none-any.whl (10 kB)\n",
            "Collecting async-generator>=1.9\n",
            "  Downloading async_generator-1.10-py3-none-any.whl (18 kB)\n",
            "Collecting outcome\n",
            "  Downloading outcome-1.1.0-py2.py3-none-any.whl (9.7 kB)\n",
            "Requirement already satisfied: sortedcontainers in /usr/local/lib/python3.7/dist-packages (from trio~=0.17->selenium) (2.4.0)\n",
            "Requirement already satisfied: idna in /usr/local/lib/python3.7/dist-packages (from trio~=0.17->selenium) (2.10)\n",
            "Requirement already satisfied: attrs>=19.2.0 in /usr/local/lib/python3.7/dist-packages (from trio~=0.17->selenium) (21.4.0)\n",
            "Collecting wsproto>=0.14\n",
            "  Downloading wsproto-1.1.0-py3-none-any.whl (24 kB)\n",
            "Requirement already satisfied: certifi in /usr/local/lib/python3.7/dist-packages (from urllib3[secure,socks]~=1.26->selenium) (2021.10.8)\n",
            "Collecting pyOpenSSL>=0.14\n",
            "  Downloading pyOpenSSL-22.0.0-py2.py3-none-any.whl (55 kB)\n",
            "\u001b[K     |████████████████████████████████| 55 kB 3.6 MB/s \n",
            "\u001b[?25hCollecting cryptography>=1.3.4\n",
            "  Downloading cryptography-37.0.0-cp36-abi3-manylinux_2_24_x86_64.whl (4.0 MB)\n",
            "\u001b[K     |████████████████████████████████| 4.0 MB 36.5 MB/s \n",
            "\u001b[?25hRequirement already satisfied: PySocks!=1.5.7,<2.0,>=1.5.6 in /usr/local/lib/python3.7/dist-packages (from urllib3[secure,socks]~=1.26->selenium) (1.7.1)\n",
            "Requirement already satisfied: cffi>=1.12 in /usr/local/lib/python3.7/dist-packages (from cryptography>=1.3.4->urllib3[secure,socks]~=1.26->selenium) (1.15.0)\n",
            "Requirement already satisfied: pycparser in /usr/local/lib/python3.7/dist-packages (from cffi>=1.12->cryptography>=1.3.4->urllib3[secure,socks]~=1.26->selenium) (2.21)\n",
            "Collecting h11<1,>=0.9.0\n",
            "  Downloading h11-0.13.0-py3-none-any.whl (58 kB)\n",
            "\u001b[K     |████████████████████████████████| 58 kB 5.0 MB/s \n",
            "\u001b[?25hRequirement already satisfied: typing-extensions in /usr/local/lib/python3.7/dist-packages (from h11<1,>=0.9.0->wsproto>=0.14->trio-websocket~=0.9->selenium) (4.2.0)\n",
            "Installing collected packages: sniffio, outcome, h11, cryptography, async-generator, wsproto, urllib3, trio, pyOpenSSL, trio-websocket, selenium\n",
            "  Attempting uninstall: urllib3\n",
            "    Found existing installation: urllib3 1.24.3\n",
            "    Uninstalling urllib3-1.24.3:\n",
            "      Successfully uninstalled urllib3-1.24.3\n",
            "\u001b[31mERROR: pip's dependency resolver does not currently take into account all the packages that are installed. This behaviour is the source of the following dependency conflicts.\n",
            "google-colab 1.0.0 requires requests~=2.23.0, but you have requests 2.27.1 which is incompatible.\n",
            "datascience 0.10.6 requires folium==0.2.1, but you have folium 0.8.3 which is incompatible.\u001b[0m\n",
            "Successfully installed async-generator-1.10 cryptography-37.0.0 h11-0.13.0 outcome-1.1.0 pyOpenSSL-22.0.0 selenium-4.1.3 sniffio-1.2.0 trio-0.20.0 trio-websocket-0.9.2 urllib3-1.26.9 wsproto-1.1.0\n"
          ]
        }
      ]
    },
    {
      "cell_type": "code",
      "source": [
        "!pip install webdriver-manager"
      ],
      "metadata": {
        "colab": {
          "base_uri": "https://localhost:8080/"
        },
        "id": "5iM9hmKjCVnS",
        "outputId": "b55f5974-cf99-405f-d660-749bda487375"
      },
      "execution_count": null,
      "outputs": [
        {
          "output_type": "stream",
          "name": "stdout",
          "text": [
            "Collecting webdriver-manager\n",
            "  Downloading webdriver_manager-3.5.4-py2.py3-none-any.whl (18 kB)\n",
            "Requirement already satisfied: requests in /usr/local/lib/python3.7/dist-packages (from webdriver-manager) (2.27.1)\n",
            "Requirement already satisfied: urllib3<1.27,>=1.21.1 in /usr/local/lib/python3.7/dist-packages (from requests->webdriver-manager) (1.26.9)\n",
            "Requirement already satisfied: idna<4,>=2.5 in /usr/local/lib/python3.7/dist-packages (from requests->webdriver-manager) (2.10)\n",
            "Requirement already satisfied: charset-normalizer~=2.0.0 in /usr/local/lib/python3.7/dist-packages (from requests->webdriver-manager) (2.0.12)\n",
            "Requirement already satisfied: certifi>=2017.4.17 in /usr/local/lib/python3.7/dist-packages (from requests->webdriver-manager) (2021.10.8)\n",
            "Installing collected packages: webdriver-manager\n",
            "Successfully installed webdriver-manager-3.5.4\n"
          ]
        }
      ]
    },
    {
      "cell_type": "code",
      "source": [
        "!apt install -q chromium-chromedriver\n",
        "!cp /usr/lib/chromium-browser/chromedriver /usr/bin"
      ],
      "metadata": {
        "id": "NYOkGVTilkcp",
        "colab": {
          "base_uri": "https://localhost:8080/"
        },
        "outputId": "622fff7a-624e-4787-e0f3-70ccc356a0a6"
      },
      "execution_count": null,
      "outputs": [
        {
          "output_type": "stream",
          "name": "stdout",
          "text": [
            "Reading package lists...\n",
            "Building dependency tree...\n",
            "Reading state information...\n",
            "The following additional packages will be installed:\n",
            "  chromium-browser chromium-browser-l10n chromium-codecs-ffmpeg-extra\n",
            "Suggested packages:\n",
            "  webaccounts-chromium-extension unity-chromium-extension\n",
            "The following NEW packages will be installed:\n",
            "  chromium-browser chromium-browser-l10n chromium-chromedriver\n",
            "  chromium-codecs-ffmpeg-extra\n",
            "0 upgraded, 4 newly installed, 0 to remove and 48 not upgraded.\n",
            "Need to get 88.4 MB of archives.\n",
            "After this operation, 297 MB of additional disk space will be used.\n",
            "Get:1 http://archive.ubuntu.com/ubuntu bionic-updates/universe amd64 chromium-codecs-ffmpeg-extra amd64 100.0.4896.127-0ubuntu0.18.04.1 [1,142 kB]\n",
            "Get:2 http://archive.ubuntu.com/ubuntu bionic-updates/universe amd64 chromium-browser amd64 100.0.4896.127-0ubuntu0.18.04.1 [77.6 MB]\n",
            "Get:3 http://archive.ubuntu.com/ubuntu bionic-updates/universe amd64 chromium-browser-l10n all 100.0.4896.127-0ubuntu0.18.04.1 [4,496 kB]\n",
            "Get:4 http://archive.ubuntu.com/ubuntu bionic-updates/universe amd64 chromium-chromedriver amd64 100.0.4896.127-0ubuntu0.18.04.1 [5,190 kB]\n",
            "Fetched 88.4 MB in 4s (24.8 MB/s)\n",
            "Selecting previously unselected package chromium-codecs-ffmpeg-extra.\n",
            "(Reading database ... 155514 files and directories currently installed.)\n",
            "Preparing to unpack .../chromium-codecs-ffmpeg-extra_100.0.4896.127-0ubuntu0.18.04.1_amd64.deb ...\n",
            "Unpacking chromium-codecs-ffmpeg-extra (100.0.4896.127-0ubuntu0.18.04.1) ...\n",
            "Selecting previously unselected package chromium-browser.\n",
            "Preparing to unpack .../chromium-browser_100.0.4896.127-0ubuntu0.18.04.1_amd64.deb ...\n",
            "Unpacking chromium-browser (100.0.4896.127-0ubuntu0.18.04.1) ...\n",
            "Selecting previously unselected package chromium-browser-l10n.\n",
            "Preparing to unpack .../chromium-browser-l10n_100.0.4896.127-0ubuntu0.18.04.1_all.deb ...\n",
            "Unpacking chromium-browser-l10n (100.0.4896.127-0ubuntu0.18.04.1) ...\n",
            "Selecting previously unselected package chromium-chromedriver.\n",
            "Preparing to unpack .../chromium-chromedriver_100.0.4896.127-0ubuntu0.18.04.1_amd64.deb ...\n",
            "Unpacking chromium-chromedriver (100.0.4896.127-0ubuntu0.18.04.1) ...\n",
            "Setting up chromium-codecs-ffmpeg-extra (100.0.4896.127-0ubuntu0.18.04.1) ...\n",
            "Setting up chromium-browser (100.0.4896.127-0ubuntu0.18.04.1) ...\n",
            "update-alternatives: using /usr/bin/chromium-browser to provide /usr/bin/x-www-browser (x-www-browser) in auto mode\n",
            "update-alternatives: using /usr/bin/chromium-browser to provide /usr/bin/gnome-www-browser (gnome-www-browser) in auto mode\n",
            "Setting up chromium-chromedriver (100.0.4896.127-0ubuntu0.18.04.1) ...\n",
            "Setting up chromium-browser-l10n (100.0.4896.127-0ubuntu0.18.04.1) ...\n",
            "Processing triggers for man-db (2.8.3-2ubuntu0.1) ...\n",
            "Processing triggers for hicolor-icon-theme (0.17-2) ...\n",
            "Processing triggers for mime-support (3.60ubuntu1) ...\n",
            "Processing triggers for libc-bin (2.27-3ubuntu1.3) ...\n",
            "/sbin/ldconfig.real: /usr/local/lib/python3.7/dist-packages/ideep4py/lib/libmkldnn.so.0 is not a symbolic link\n",
            "\n",
            "cp: '/usr/lib/chromium-browser/chromedriver' and '/usr/bin/chromedriver' are the same file\n"
          ]
        }
      ]
    },
    {
      "cell_type": "markdown",
      "source": [
        "# Libraries"
      ],
      "metadata": {
        "id": "8BzZEXgrlIx1"
      }
    },
    {
      "cell_type": "code",
      "source": [
        "import sys\n",
        "import json\n",
        "sys.path.append(\".\")\n",
        "import tweepy\n",
        "import re\n",
        "import requests\n",
        "import tldextract\n",
        "import math\n",
        "import pandas as pd\n",
        "import selenium\n",
        "from selenium import webdriver\n",
        "from urlextract import URLExtract\n",
        "from pprint import pprint\n",
        "from itertools import chain\n",
        "from unshortenit import UnshortenIt\n",
        "from requests.adapters import HTTPAdapter\n",
        "from requests.packages.urllib3.util.retry import Retry\n",
        "from twitter import *\n",
        "import nltk"
      ],
      "metadata": {
        "id": "GqWwPepGlNtD"
      },
      "execution_count": null,
      "outputs": []
    },
    {
      "cell_type": "markdown",
      "source": [
        "# Selenium setup"
      ],
      "metadata": {
        "id": "CJpfg70kSmoK"
      }
    },
    {
      "cell_type": "code",
      "source": [
        "from selenium import webdriver\n",
        "from selenium.webdriver.common.by import By\n",
        "from selenium.common.exceptions import NoSuchElementException\n",
        "import time\n",
        "\n",
        "sys.path.insert(0,'/usr/lib/chromium-browser/chromedriver')\n",
        "options = webdriver.ChromeOptions()\n",
        "options.add_argument('--headless')\n",
        "options.add_argument('--no-sandbox')\n",
        "options.add_argument('--disable-dev-shm-usage')"
      ],
      "metadata": {
        "id": "5DWTCP442QTR"
      },
      "execution_count": null,
      "outputs": []
    },
    {
      "cell_type": "markdown",
      "source": [
        "# Tokens"
      ],
      "metadata": {
        "id": "mJ_-f5Idk8yL"
      }
    },
    {
      "cell_type": "code",
      "source": [
        "consumer_key = \"1Bt5NsVYAvbhauiA7rQIXl6VI\"\n",
        "consumer_secret = \"gU5eKsibayIyS1p3IzOfpLwsg32D2yW9sqdDsnOaU6bUQKkhaW\"\n",
        "access_token = \"735300724607877120-7fd8mLTQG1e3QJfe9P7rKLUD4a16c35\"\n",
        "access_token_secret = \"vir0UbQ44oUm3u2eh8lM1J6cE4ckFyfWm2j44JGckj5Ht\""
      ],
      "metadata": {
        "id": "XB4LKsqCj43N"
      },
      "execution_count": null,
      "outputs": []
    },
    {
      "cell_type": "markdown",
      "source": [
        "# Authentication"
      ],
      "metadata": {
        "id": "0UXCMaullB_W"
      }
    },
    {
      "cell_type": "code",
      "source": [
        "auth = tweepy.OAuth1UserHandler(\n",
        "    consumer_key, consumer_secret, access_token, access_token_secret\n",
        ")\n",
        "\n",
        "api = tweepy.API(auth)"
      ],
      "metadata": {
        "id": "qGv9BqjqlETJ"
      },
      "execution_count": null,
      "outputs": []
    },
    {
      "cell_type": "markdown",
      "source": [
        "# Usage"
      ],
      "metadata": {
        "id": "5Yth7fCAnFL8"
      }
    },
    {
      "cell_type": "code",
      "source": [
        "def extract_url(tweet_text, domain_list, extractor):\n",
        "    \n",
        "    # check if tweet_text has URLs\n",
        "    if extractor.has_urls(tweet_text):\n",
        "        link_list = [link for link in extractor.find_urls(tweet_text)]\n",
        "\n",
        "        # unwrap shortened t.co links\n",
        "        links = []\n",
        "        for link in link_list:\n",
        "          try:\n",
        "            url = requests.get(link).url\n",
        "          except:\n",
        "            continue\n",
        "          links.append(url)\n",
        "          \n",
        "        # for link in link_list:\n",
        "        #   session = requests.Session()\n",
        "        #   retry = Retry(connect=3, backoff_factor=0.5)\n",
        "        #   adapter = HTTPAdapter(max_retries=retry)\n",
        "        #   session.mount('http://', adapter)\n",
        "        #   session.mount('https://', adapter)\n",
        "\n",
        "        #   url = session.get(link).url\n",
        "        #   links.append(url)\n",
        "\n",
        "        # links = [requests.get(link).url for link in link_list]\n",
        "        # unshortener = UnshortenIt()\n",
        "        # links = [unshortener.unshorten(link) for link in link_list]\n",
        "\n",
        "        # filter domains and remove duplicates whilst preserving order\n",
        "        filtered_links = list(set([link for link in links if tldextract.extract(link).domain not in domain_list]))\n",
        "\n",
        "        # return None if no filtered_links are present\n",
        "        if len(filtered_links) != 0:\n",
        "            return filtered_links\n",
        "        else:\n",
        "            return None\n",
        "    # return None if tweet_text has no URLs\n",
        "    else:\n",
        "        return None"
      ],
      "metadata": {
        "id": "1dxjKYfMnuhb"
      },
      "execution_count": null,
      "outputs": []
    },
    {
      "cell_type": "code",
      "source": [
        "def get_tweet_score(followers, following, totaltweets, retweetcount):\n",
        "    \n",
        "    # factors denoting popularity of a given tweet\n",
        "    # consider the following order of importance\n",
        "        # retweetcount\n",
        "        # followers to following ratio\n",
        "        # totaltweets by the user account\n",
        "    \n",
        "    # normalized follower to following ratio\n",
        "    ratio = (0.8 * (followers + 1))/(0.2 * (following + 1))\n",
        "\n",
        "    # weights distribution\n",
        "    # 60% retweetcount\n",
        "    wt_rt_count = 0.6\n",
        "    # 40% followers-to-following ratio\n",
        "    wt_ratio = 0.4\n",
        "    # log(totaltweets) since total tweets can be very large\n",
        "    wt_total = math.log10(totaltweets)\n",
        "\n",
        "    # calculate score and return\n",
        "    return wt_rt_count*(retweetcount) + wt_ratio*ratio + wt_total"
      ],
      "metadata": {
        "id": "N8bYQiFzn2X9"
      },
      "execution_count": null,
      "outputs": []
    },
    {
      "cell_type": "code",
      "source": [
        "def scrape(tweets):\n",
        "\n",
        "  # set of urls found\n",
        "  url_set = set()\n",
        "\n",
        "  # list of tweets containing links\n",
        "  link_tweets = []\n",
        "\n",
        "  for tweet in tweets:\n",
        "      username = tweet.user.screen_name\n",
        "      description = tweet.user.description\n",
        "      location = tweet.user.location\n",
        "      following = tweet.user.friends_count\n",
        "      followers = tweet.user.followers_count\n",
        "      totaltweets = tweet.user.statuses_count\n",
        "      retweetcount = tweet.retweet_count\n",
        "      hashtags = tweet.entities['hashtags']\n",
        "      score = get_tweet_score(followers, following, totaltweets, retweetcount)\n",
        "      \n",
        "      # retweets can be distinguished by\n",
        "      # a retweeted_status attribute,\n",
        "      # in case it is an invalid reference,\n",
        "      # except block will be executed\n",
        "      try:\n",
        "          text = tweet.retweeted_status.full_text\n",
        "      except AttributeError:\n",
        "          text = tweet.full_text\n",
        "\n",
        "      hashtext = list()\n",
        "      for j in range(len(hashtags)):\n",
        "          hashtext.append(hashtags[j]['text'])\n",
        "      \n",
        "      # initialize URLExtract\n",
        "      extractor = URLExtract()\n",
        "\n",
        "      # list of domains to filter\n",
        "      domains = ['twitter', 'youtube','bloomberg', 'dailymail', 'msn', 'teslarati', 'cnn']\n",
        "\n",
        "      # single tweet can have more than one url so get them in lists\n",
        "      urls = extract_url(text, domains, extractor)\n",
        "\n",
        "      if urls:\n",
        "          for url in urls:\n",
        "              if url not in url_set:\n",
        "                  # add url to the set\n",
        "                  url_set.add(url)\n",
        "\n",
        "                  # check url status\n",
        "                  print(\"URL Being scraped is: \", url)\n",
        "                  req = requests.head(url)\n",
        "                  print(\"URL status code is: \", req.status_code)\n",
        "\n",
        "                  # selenium scraper\n",
        "                  wd = webdriver.Chrome('chromedriver',options=options)\n",
        "                  wd.maximize_window()\n",
        "                  wd.execute_script(\"Object.defineProperty(navigator, 'webdriver', {get: () => undefined})\")\n",
        "                  wd.execute_cdp_cmd('Network.setUserAgentOverride', {\"userAgent\": 'Mozilla/5.0 (Windows NT 10.0; Win64; x64) AppleWebKit/537.36 (KHTML, like Gecko) Chrome/83.0.4103.53 Safari/537.36'})\n",
        "                  wd.get(url)\n",
        "                  try:\n",
        "                    # wd.implicitly_wait(10)\n",
        "                    el = wd.find_element(By.TAG_NAME, \"body\")\n",
        "                    title = wd.title\n",
        "                    body = el.text\n",
        "                  except NoSuchElementException:\n",
        "                    pass\n",
        "                  wd.quit()\n",
        "                  \n",
        "                  # need to add title and body after score for selenium data\n",
        "                  ith_tweet = [username, description,\n",
        "                              location, following,\n",
        "                              followers, totaltweets,\n",
        "                              retweetcount, text, url, \n",
        "                              hashtext, score, title, body]\n",
        "                  \n",
        "                  # append all the extracted information to the list\n",
        "                  link_tweets.append(ith_tweet)\n",
        "\n",
        "  df_tweets = pd.DataFrame(link_tweets, columns=['username',\n",
        "                                                 'description',\n",
        "                                                 'location',\n",
        "                                                 'following',\n",
        "                                                 'followers',\n",
        "                                                 'totaltweets',\n",
        "                                                 'retweetcount',\n",
        "                                                 'text',\n",
        "                                                 'urls',\n",
        "                                                 'hashtags',\n",
        "                                                 'score',\n",
        "                                                 'title',\n",
        "                                                 'body'\n",
        "                                                ])\n",
        "      \n",
        "  return df_tweets"
      ],
      "metadata": {
        "id": "kw8qwPl5n9XW"
      },
      "execution_count": null,
      "outputs": []
    },
    {
      "cell_type": "code",
      "source": [
        "if __name__ == '__main__':\n",
        "\n",
        "  queryTopic = \"elon\"\n",
        "\n",
        "  tweets = [tweet for tweet in tweepy.Cursor(api.search_tweets,\n",
        "                                            q = (queryTopic),\n",
        "                                            lang = \"en\",\n",
        "                                            result_type = \"mixed\",\n",
        "                                            tweet_mode = 'extended'\n",
        "                                            ).items(100)]\n",
        "                                            \n",
        "  tweets_popular = [tweet for tweet in tweepy.Cursor(api.search_tweets,\n",
        "                                                    q = (queryTopic),\n",
        "                                                    lang = \"en\",\n",
        "                                                    result_type = \"popular\",\n",
        "                                                    tweet_mode = 'extended',\n",
        "                                                    ).items()]\n",
        "  print(len(tweets))\n",
        "  print(len(tweets_popular))\n",
        "\n",
        "  df_tweets = scrape(tweets)\n",
        "  df_tweets_popular = scrape(tweets_popular)"
      ],
      "metadata": {
        "id": "VxuO-t_ooFIE",
        "colab": {
          "base_uri": "https://localhost:8080/"
        },
        "outputId": "cada4fa9-9b24-4b9b-91ef-ec1682054b5e"
      },
      "execution_count": null,
      "outputs": [
        {
          "output_type": "stream",
          "name": "stdout",
          "text": [
            "100\n",
            "78\n",
            "URL Being scraped is:  https://www.mypillow.com/\n",
            "URL status code is:  200\n",
            "URL Being scraped is:  https://nypost.com/2022/04/26/shaun-king-other-liberals-delete-twitter-in-protest-of-elon-musk/?utm_campaign=SocialFlow&utm_source=NYPTwitter&utm_medium=SocialFlow\n",
            "URL status code is:  200\n",
            "URL Being scraped is:  https://maxread.substack.com/p/elon-musk-wont-fix-twitter-but-he\n",
            "URL status code is:  200\n",
            "URL Being scraped is:  https://www.foxnews.com/entertainment/hollywood-reacts-elon-musk-buying-twitter\n",
            "URL status code is:  200\n",
            "URL Being scraped is:  https://nypost.com/2022/04/25/russia-appears-to-confuse-the-sims-for-sim-cards-in-possible-staged-assassination-attempt/\n",
            "URL status code is:  200\n",
            "URL Being scraped is:  https://www.independent.co.uk/tech/twitter-elon-musk-sale-buys-b2065182.html#Echobox=1650888159\n",
            "URL status code is:  200\n",
            "URL Being scraped is:  https://www.tmz.com/2022/04/25/elon-musk-new-owner-twitter-43-billion-offer-accepted/?adid=social-twa\n",
            "URL status code is:  200\n",
            "URL Being scraped is:  https://nypost.com/2022/04/19/ron-desantis-threatens-twitter-board-over-elon-musks-bid/?utm_campaign=SocialFlow&utm_source=NYPTwitter&utm_medium=SocialFlow\n",
            "URL status code is:  200\n",
            "URL Being scraped is:  https://www.washingtonpost.com/opinions/2022/04/19/conservatives-cheering-elon-musk/\n",
            "URL status code is:  200\n",
            "URL Being scraped is:  https://watcher.guru/news/elon-musk-willing-to-invest-15-billion-to-take-over-twitter-sources-cite\n",
            "URL status code is:  200\n",
            "URL Being scraped is:  https://www.reuters.com/technology/elon-musk-invest-up-15-bln-his-own-money-buy-twitter-nypost-2022-04-19/?taid=625efd552d4cd2000149ee2e&utm_campaign=trueAnthem:+Trending+Content&utm_medium=trueAnthem&utm_source=twitter\n",
            "URL status code is:  200\n"
          ]
        }
      ]
    },
    {
      "cell_type": "markdown",
      "source": [
        "**Getting top 5 tweets for comparison**"
      ],
      "metadata": {
        "id": "f8kGbgr8XK3o"
      }
    },
    {
      "cell_type": "code",
      "source": [
        "tweet_text = []\n",
        "for tweet in tweets_popular:\n",
        "  tweet_text.append(tweet.full_text)\n",
        "\n",
        "top_5_tweet_text = tweet_text[0:5]\n",
        "\n",
        "for tweet in top_5_tweet_text:\n",
        "  print(\"tweet: \", tweet)"
      ],
      "metadata": {
        "colab": {
          "base_uri": "https://localhost:8080/"
        },
        "id": "0qF0McLRRcmp",
        "outputId": "d083db05-b347-4076-8dab-8d86ecb52441"
      },
      "execution_count": null,
      "outputs": [
        {
          "output_type": "stream",
          "name": "stdout",
          "text": [
            "tweet:  FYI: We’re blocked by Elon Musk.\n",
            "\n",
            "So much for being “committed” to free speech. https://t.co/iXsMQYq8v0\n",
            "tweet:  Zuckerberg owns Facebook, Instagram, and WhatsApp.\n",
            "\n",
            "Jeff Bezos owns the Washington Post.\n",
            "\n",
            "Elon Musk owns Twitter.\n",
            "\n",
            "When multi-billionaires take control of our most vital platforms for communication, it’s not a win for free speech. It’s a win for oligarchy.\n",
            "tweet:  In principle, I don’t believe anyone should own or run Twitter. It wants to be a public good at a protocol level, not a company. Solving for the problem of it being a company however, Elon is the singular solution I trust. I trust his mission to extend the light of consciousness.\n",
            "tweet:  The Elon news is crowding out a significantly funnier story: Russia staged a fake bust of alleged Ukrainian Nazi assassins, and the guy tasked with assembling the paraphernalia for the photo bought three copies of The Sims instead of three SIM cards https://t.co/J6Cf2Ioegz\n",
            "tweet:  Elon Musk is the first African American to own a large social media platform. He is one of my favorite African Americans and it’s sad to see so many people on the left attacking him during this Historic moment. https://t.co/4NDpSengOK\n"
          ]
        }
      ]
    },
    {
      "cell_type": "markdown",
      "source": [
        "# Merging the data frames (popular + descending order of scores)\n",
        "\n"
      ],
      "metadata": {
        "id": "PBf3YQS6D17J"
      }
    },
    {
      "cell_type": "code",
      "source": [
        "df_tweets = df_tweets.sort_values(by = \"score\",ascending = False).reset_index(drop =True)\n",
        "df_final = pd.concat([df_tweets_popular,df_tweets]).drop_duplicates(subset=\"urls\").reset_index(drop =True)\n",
        "df_final.head()"
      ],
      "metadata": {
        "id": "nUsMxwHRBi-2",
        "colab": {
          "base_uri": "https://localhost:8080/",
          "height": 424
        },
        "outputId": "1a5744c8-4588-4bb5-ae6e-c1ac3415b74b"
      },
      "execution_count": null,
      "outputs": [
        {
          "output_type": "execute_result",
          "data": {
            "text/plain": [
              "        username                                        description  \\\n",
              "0        tomgara  writing and editing things. now: @meta, former...   \n",
              "1    Independent  News, comment and features from The Independen...   \n",
              "2            TMZ         Breaking entertainment news as it happens.   \n",
              "3         nypost  Breaking news & features from The New York Pos...   \n",
              "4  ThePlumLineGS      A blog about politics, politics, and politics   \n",
              "\n",
              "                     location  following  followers  totaltweets  \\\n",
              "0  PGP: http://bit.ly/1Nja4jP       1732      63011       128293   \n",
              "1             London, England        404    3695120      1257919   \n",
              "2             Los Angeles, CA        927    5896588       375913   \n",
              "3                New York, NY      10997    2602188       467329   \n",
              "4                                   3766     317962       165109   \n",
              "\n",
              "   retweetcount                                               text  \\\n",
              "0         13841  The Elon news is crowding out a significantly ...   \n",
              "1         10797  🚨JUST IN 🚨\\nTwitter to accept Elon Musk’s $45 ...   \n",
              "2          3850  Elon Musk is Twitter's new daddy ... and some ...   \n",
              "3           405  Florida Gov. Ron DeSantis threatens to go afte...   \n",
              "4           194  The same GOP hailing Elon Musk as a free speec...   \n",
              "\n",
              "                                                urls hashtags         score  \\\n",
              "0  https://nypost.com/2022/04/25/russia-appears-t...       []   8367.884314   \n",
              "1  https://www.independent.co.uk/tech/twitter-elo...       []  21082.308542   \n",
              "2  https://www.tmz.com/2022/04/25/elon-musk-new-o...       []  12482.107846   \n",
              "3  https://nypost.com/2022/04/19/ron-desantis-thr...       []    627.238672   \n",
              "4  https://www.washingtonpost.com/opinions/2022/0...       []    256.669748   \n",
              "\n",
              "                                               title  \\\n",
              "0  Russia appears to confuse 'The Sims' for SIM c...   \n",
              "1  Twitter: Elon Musk takeover announced with Tes...   \n",
              "2             Elon Musk Buys Twitter for $44 Billion   \n",
              "3  Ron DeSantis threatens Twitter board over Elon...   \n",
              "4  Opinion | Conservatives cheering on Elon Musk ...   \n",
              "\n",
              "                                                body  \n",
              "0  Primary Menu\\nSECTIONS\\nNew York Post\\nLOG IN\\...  \n",
              "1  Contribute\\nSubscribe\\nLOGIN\\nTech\\nTwitter: E...  \n",
              "2  Skip to main content\\nGOT A TIP?\\nTMZ\\nYou hav...  \n",
              "3  Primary Menu\\nSECTIONS\\nNew York Post\\nLOG IN\\...  \n",
              "4  Accessibility statement\\nSkip to main content\\...  "
            ],
            "text/html": [
              "\n",
              "  <div id=\"df-db47fd88-6d99-43ee-8692-d0a2fddce2ed\">\n",
              "    <div class=\"colab-df-container\">\n",
              "      <div>\n",
              "<style scoped>\n",
              "    .dataframe tbody tr th:only-of-type {\n",
              "        vertical-align: middle;\n",
              "    }\n",
              "\n",
              "    .dataframe tbody tr th {\n",
              "        vertical-align: top;\n",
              "    }\n",
              "\n",
              "    .dataframe thead th {\n",
              "        text-align: right;\n",
              "    }\n",
              "</style>\n",
              "<table border=\"1\" class=\"dataframe\">\n",
              "  <thead>\n",
              "    <tr style=\"text-align: right;\">\n",
              "      <th></th>\n",
              "      <th>username</th>\n",
              "      <th>description</th>\n",
              "      <th>location</th>\n",
              "      <th>following</th>\n",
              "      <th>followers</th>\n",
              "      <th>totaltweets</th>\n",
              "      <th>retweetcount</th>\n",
              "      <th>text</th>\n",
              "      <th>urls</th>\n",
              "      <th>hashtags</th>\n",
              "      <th>score</th>\n",
              "      <th>title</th>\n",
              "      <th>body</th>\n",
              "    </tr>\n",
              "  </thead>\n",
              "  <tbody>\n",
              "    <tr>\n",
              "      <th>0</th>\n",
              "      <td>tomgara</td>\n",
              "      <td>writing and editing things. now: @meta, former...</td>\n",
              "      <td>PGP: http://bit.ly/1Nja4jP</td>\n",
              "      <td>1732</td>\n",
              "      <td>63011</td>\n",
              "      <td>128293</td>\n",
              "      <td>13841</td>\n",
              "      <td>The Elon news is crowding out a significantly ...</td>\n",
              "      <td>https://nypost.com/2022/04/25/russia-appears-t...</td>\n",
              "      <td>[]</td>\n",
              "      <td>8367.884314</td>\n",
              "      <td>Russia appears to confuse 'The Sims' for SIM c...</td>\n",
              "      <td>Primary Menu\\nSECTIONS\\nNew York Post\\nLOG IN\\...</td>\n",
              "    </tr>\n",
              "    <tr>\n",
              "      <th>1</th>\n",
              "      <td>Independent</td>\n",
              "      <td>News, comment and features from The Independen...</td>\n",
              "      <td>London, England</td>\n",
              "      <td>404</td>\n",
              "      <td>3695120</td>\n",
              "      <td>1257919</td>\n",
              "      <td>10797</td>\n",
              "      <td>🚨JUST IN 🚨\\nTwitter to accept Elon Musk’s $45 ...</td>\n",
              "      <td>https://www.independent.co.uk/tech/twitter-elo...</td>\n",
              "      <td>[]</td>\n",
              "      <td>21082.308542</td>\n",
              "      <td>Twitter: Elon Musk takeover announced with Tes...</td>\n",
              "      <td>Contribute\\nSubscribe\\nLOGIN\\nTech\\nTwitter: E...</td>\n",
              "    </tr>\n",
              "    <tr>\n",
              "      <th>2</th>\n",
              "      <td>TMZ</td>\n",
              "      <td>Breaking entertainment news as it happens.</td>\n",
              "      <td>Los Angeles, CA</td>\n",
              "      <td>927</td>\n",
              "      <td>5896588</td>\n",
              "      <td>375913</td>\n",
              "      <td>3850</td>\n",
              "      <td>Elon Musk is Twitter's new daddy ... and some ...</td>\n",
              "      <td>https://www.tmz.com/2022/04/25/elon-musk-new-o...</td>\n",
              "      <td>[]</td>\n",
              "      <td>12482.107846</td>\n",
              "      <td>Elon Musk Buys Twitter for $44 Billion</td>\n",
              "      <td>Skip to main content\\nGOT A TIP?\\nTMZ\\nYou hav...</td>\n",
              "    </tr>\n",
              "    <tr>\n",
              "      <th>3</th>\n",
              "      <td>nypost</td>\n",
              "      <td>Breaking news &amp; features from The New York Pos...</td>\n",
              "      <td>New York, NY</td>\n",
              "      <td>10997</td>\n",
              "      <td>2602188</td>\n",
              "      <td>467329</td>\n",
              "      <td>405</td>\n",
              "      <td>Florida Gov. Ron DeSantis threatens to go afte...</td>\n",
              "      <td>https://nypost.com/2022/04/19/ron-desantis-thr...</td>\n",
              "      <td>[]</td>\n",
              "      <td>627.238672</td>\n",
              "      <td>Ron DeSantis threatens Twitter board over Elon...</td>\n",
              "      <td>Primary Menu\\nSECTIONS\\nNew York Post\\nLOG IN\\...</td>\n",
              "    </tr>\n",
              "    <tr>\n",
              "      <th>4</th>\n",
              "      <td>ThePlumLineGS</td>\n",
              "      <td>A blog about politics, politics, and politics</td>\n",
              "      <td></td>\n",
              "      <td>3766</td>\n",
              "      <td>317962</td>\n",
              "      <td>165109</td>\n",
              "      <td>194</td>\n",
              "      <td>The same GOP hailing Elon Musk as a free speec...</td>\n",
              "      <td>https://www.washingtonpost.com/opinions/2022/0...</td>\n",
              "      <td>[]</td>\n",
              "      <td>256.669748</td>\n",
              "      <td>Opinion | Conservatives cheering on Elon Musk ...</td>\n",
              "      <td>Accessibility statement\\nSkip to main content\\...</td>\n",
              "    </tr>\n",
              "  </tbody>\n",
              "</table>\n",
              "</div>\n",
              "      <button class=\"colab-df-convert\" onclick=\"convertToInteractive('df-db47fd88-6d99-43ee-8692-d0a2fddce2ed')\"\n",
              "              title=\"Convert this dataframe to an interactive table.\"\n",
              "              style=\"display:none;\">\n",
              "        \n",
              "  <svg xmlns=\"http://www.w3.org/2000/svg\" height=\"24px\"viewBox=\"0 0 24 24\"\n",
              "       width=\"24px\">\n",
              "    <path d=\"M0 0h24v24H0V0z\" fill=\"none\"/>\n",
              "    <path d=\"M18.56 5.44l.94 2.06.94-2.06 2.06-.94-2.06-.94-.94-2.06-.94 2.06-2.06.94zm-11 1L8.5 8.5l.94-2.06 2.06-.94-2.06-.94L8.5 2.5l-.94 2.06-2.06.94zm10 10l.94 2.06.94-2.06 2.06-.94-2.06-.94-.94-2.06-.94 2.06-2.06.94z\"/><path d=\"M17.41 7.96l-1.37-1.37c-.4-.4-.92-.59-1.43-.59-.52 0-1.04.2-1.43.59L10.3 9.45l-7.72 7.72c-.78.78-.78 2.05 0 2.83L4 21.41c.39.39.9.59 1.41.59.51 0 1.02-.2 1.41-.59l7.78-7.78 2.81-2.81c.8-.78.8-2.07 0-2.86zM5.41 20L4 18.59l7.72-7.72 1.47 1.35L5.41 20z\"/>\n",
              "  </svg>\n",
              "      </button>\n",
              "      \n",
              "  <style>\n",
              "    .colab-df-container {\n",
              "      display:flex;\n",
              "      flex-wrap:wrap;\n",
              "      gap: 12px;\n",
              "    }\n",
              "\n",
              "    .colab-df-convert {\n",
              "      background-color: #E8F0FE;\n",
              "      border: none;\n",
              "      border-radius: 50%;\n",
              "      cursor: pointer;\n",
              "      display: none;\n",
              "      fill: #1967D2;\n",
              "      height: 32px;\n",
              "      padding: 0 0 0 0;\n",
              "      width: 32px;\n",
              "    }\n",
              "\n",
              "    .colab-df-convert:hover {\n",
              "      background-color: #E2EBFA;\n",
              "      box-shadow: 0px 1px 2px rgba(60, 64, 67, 0.3), 0px 1px 3px 1px rgba(60, 64, 67, 0.15);\n",
              "      fill: #174EA6;\n",
              "    }\n",
              "\n",
              "    [theme=dark] .colab-df-convert {\n",
              "      background-color: #3B4455;\n",
              "      fill: #D2E3FC;\n",
              "    }\n",
              "\n",
              "    [theme=dark] .colab-df-convert:hover {\n",
              "      background-color: #434B5C;\n",
              "      box-shadow: 0px 1px 3px 1px rgba(0, 0, 0, 0.15);\n",
              "      filter: drop-shadow(0px 1px 2px rgba(0, 0, 0, 0.3));\n",
              "      fill: #FFFFFF;\n",
              "    }\n",
              "  </style>\n",
              "\n",
              "      <script>\n",
              "        const buttonEl =\n",
              "          document.querySelector('#df-db47fd88-6d99-43ee-8692-d0a2fddce2ed button.colab-df-convert');\n",
              "        buttonEl.style.display =\n",
              "          google.colab.kernel.accessAllowed ? 'block' : 'none';\n",
              "\n",
              "        async function convertToInteractive(key) {\n",
              "          const element = document.querySelector('#df-db47fd88-6d99-43ee-8692-d0a2fddce2ed');\n",
              "          const dataTable =\n",
              "            await google.colab.kernel.invokeFunction('convertToInteractive',\n",
              "                                                     [key], {});\n",
              "          if (!dataTable) return;\n",
              "\n",
              "          const docLinkHtml = 'Like what you see? Visit the ' +\n",
              "            '<a target=\"_blank\" href=https://colab.research.google.com/notebooks/data_table.ipynb>data table notebook</a>'\n",
              "            + ' to learn more about interactive tables.';\n",
              "          element.innerHTML = '';\n",
              "          dataTable['output_type'] = 'display_data';\n",
              "          await google.colab.output.renderOutput(dataTable, element);\n",
              "          const docLink = document.createElement('div');\n",
              "          docLink.innerHTML = docLinkHtml;\n",
              "          element.appendChild(docLink);\n",
              "        }\n",
              "      </script>\n",
              "    </div>\n",
              "  </div>\n",
              "  "
            ]
          },
          "metadata": {},
          "execution_count": 16
        }
      ]
    },
    {
      "cell_type": "markdown",
      "source": [
        "# BM25"
      ],
      "metadata": {
        "id": "SdwKv-WoSWMy"
      }
    },
    {
      "cell_type": "code",
      "source": [
        "# pre-preprocessing for tokenization\n",
        "import nltk\n",
        "nltk.download('punkt')\n",
        "nltk.download('stopwords')\n",
        "from nltk import word_tokenize\n",
        "import contractions\n",
        "import re\n",
        "import inflect\n",
        "from nltk.corpus import stopwords\n",
        "from rank_bm25 import *\n",
        "from nltk.stem import PorterStemmer\n",
        "from nltk.tokenize import word_tokenize\n",
        "\n",
        "#Remove URLs from a sample string\n",
        "\n",
        "def remove_URL(sample):\n",
        "    return re.sub(r\"http\\S+\", \"\", sample)\n",
        "\n",
        "# Replace contractions in string of text\n",
        "def replace_contractions(text):\n",
        "    return contractions.fix(text)\n",
        "\n",
        "# Convert all characters to lowercase from list of tokenized words\n",
        "def to_lowercase(words):\n",
        "    new_words = []\n",
        "    for word in words:\n",
        "        new_word = word.lower()\n",
        "        new_words.append(new_word)\n",
        "    return new_words\n",
        "\n",
        "#Remove punctuation from list of tokenized words\n",
        "def remove_punctuation(words):\n",
        "    new_words = []\n",
        "    for word in words:\n",
        "        new_word = re.sub(r'[^\\w\\s]', '', word)\n",
        "        if new_word != '':\n",
        "            new_words.append(new_word)\n",
        "    return new_words\n",
        "\n",
        "def replace_numbers(words):\n",
        "    \"\"\"Replace all interger occurrences in list of tokenized words with textual representation\"\"\"\n",
        "    p = inflect.engine()\n",
        "    new_words = []\n",
        "    for word in words:\n",
        "        if word.isdigit():\n",
        "            continue\n",
        "        else:\n",
        "            new_words.append(word)\n",
        "    return new_words\n",
        "\n",
        "# Remove stop words from list of tokenized words\n",
        "def remove_stopwords(words):\n",
        "    new_words = []\n",
        "    for word in words:\n",
        "        if word not in stopwords.words('english'):\n",
        "            new_words.append(word)\n",
        "    return new_words"
      ],
      "metadata": {
        "colab": {
          "base_uri": "https://localhost:8080/"
        },
        "id": "VpmhuRYiRfE_",
        "outputId": "d5f1dcc0-b4f1-4618-80a2-a6d8f9814e63"
      },
      "execution_count": null,
      "outputs": [
        {
          "output_type": "stream",
          "name": "stdout",
          "text": [
            "[nltk_data] Downloading package punkt to /root/nltk_data...\n",
            "[nltk_data]   Unzipping tokenizers/punkt.zip.\n",
            "[nltk_data] Downloading package stopwords to /root/nltk_data...\n",
            "[nltk_data]   Unzipping corpora/stopwords.zip.\n"
          ]
        }
      ]
    },
    {
      "cell_type": "code",
      "source": [
        "token_list = []\n",
        "ps = PorterStemmer()\n",
        "\n",
        "i = 0 \n",
        "for text in top_5_tweet_text:\n",
        "  x = remove_URL(text)\n",
        "  x = replace_contractions(x)\n",
        "\n",
        "  tokens = replace_numbers(to_lowercase(remove_stopwords(remove_punctuation(nltk.word_tokenize(x)))))\n",
        "\n",
        "  for token in tokens:\n",
        "    token_list.append(ps.stem(token))\n",
        "\n",
        "# unique tokens:\n",
        "token_list = list(set(token_list))"
      ],
      "metadata": {
        "id": "VzMXCuLlCavS"
      },
      "execution_count": null,
      "outputs": []
    },
    {
      "cell_type": "code",
      "source": [
        "print(len(token_list))\n",
        "print(token_list)"
      ],
      "metadata": {
        "colab": {
          "base_uri": "https://localhost:8080/"
        },
        "id": "s6K_dqAD8xb0",
        "outputId": "04a804b2-2583-40a5-de80-13bea95c18da"
      },
      "execution_count": null,
      "outputs": [
        {
          "output_type": "stream",
          "name": "stdout",
          "text": [
            "86\n",
            "['tri', 'yet', 'gave', 'social', 'sad', 'hunger', 'block', 'free', 'peopl', 'speech', 'america', 'void', 'washington', 'coincid', 'end', 'instagram', 'get', 'so', 'jeff', 'two', 'violat', 'whatsapp', 'post', 'own', 'we', 'when', 'see', 'could', 'put', 'musk', 'control', 'amount', 'publicli', 'zuckerberg', 'disparag', 'media', 'take', 'attack', 'world', 'commit', 'billion', 'purpos', 'feder', 'histor', 'money', 'fyi', 'high', 'platform', 'oligarchi', 'today', 'elon', 'year', 'much', 'un', 'agreement', 'he', 'last', 'deal', 'bezo', 'unravel', 'moment', 'favorit', 'gener', 'american', 'tax', 'well', 'african', 'unclear', 'facebook', 'twitter', 'one', 'left', 'claus', 'rank', 'vital', 'mani', 'whi', 'first', 'larg', 'multibillionair', 'employe', 'it', 'win', 'buyout', 'paid', 'commun']\n"
          ]
        }
      ]
    },
    {
      "cell_type": "code",
      "source": [
        "# tokenize the bodys of all links\n",
        "\n",
        "i=0\n",
        "link_content_tokenized = []\n",
        "for text in df_final[\"body\"]:\n",
        "  x = remove_URL(text)\n",
        "  x = replace_contractions(x)\n",
        "\n",
        "  tokens = replace_numbers(to_lowercase(remove_stopwords(remove_punctuation(nltk.word_tokenize(x)))))\n",
        "  \n",
        "  li = []\n",
        "  for token in tokens:\n",
        "    li.append(ps.stem(token))\n",
        "  \n",
        "  li = list(set(li))\n",
        "\n",
        "  link_content_tokenized.append(li)"
      ],
      "metadata": {
        "id": "PTPJQ2EHXexl"
      },
      "execution_count": null,
      "outputs": []
    },
    {
      "cell_type": "code",
      "source": [
        "print(len(link_content_tokenized))"
      ],
      "metadata": {
        "colab": {
          "base_uri": "https://localhost:8080/"
        },
        "id": "M9N1Qkr4e4D0",
        "outputId": "09f7497b-39ba-4fc1-f6b5-c6dd1a881726"
      },
      "execution_count": null,
      "outputs": [
        {
          "output_type": "stream",
          "name": "stdout",
          "text": [
            "11\n"
          ]
        }
      ]
    },
    {
      "cell_type": "code",
      "source": [
        "# matching using bm25\n",
        "bm25 = BM25Okapi(link_content_tokenized)\n",
        "doc_scores = bm25.get_scores(token_list)\n",
        "df_final[\"bm25_score\"] = doc_scores\n",
        "df_final.sort_values(\"bm25_score\", ascending = False)"
      ],
      "metadata": {
        "id": "biFoabEw31hI",
        "colab": {
          "base_uri": "https://localhost:8080/",
          "height": 907
        },
        "outputId": "dbaa7f27-552b-4497-cd8a-2b3ccb6e3a69"
      },
      "execution_count": null,
      "outputs": [
        {
          "output_type": "execute_result",
          "data": {
            "text/plain": [
              "           username                                        description  \\\n",
              "10      fauxrealist  news editor/photographer/anthropology student;...   \n",
              "4     ThePlumLineGS      A blog about politics, politics, and politics   \n",
              "7    Acent80Anthony                                                      \n",
              "6           Reuters  Top and breaking news, pictures and videos fro...   \n",
              "2               TMZ         Breaking entertainment news as it happens.   \n",
              "9   mcordeirobrasil                      De direita com muito orgulho.   \n",
              "5       WatcherGuru  Watcher Guru gives you unparalleled coverage o...   \n",
              "3            nypost  Breaking news & features from The New York Pos...   \n",
              "0           tomgara  writing and editing things. now: @meta, former...   \n",
              "1       Independent  News, comment and features from The Independen...   \n",
              "8       RyanKnolton                                                      \n",
              "\n",
              "                      location  following  followers  totaltweets  \\\n",
              "10                          LA       2003        431          551   \n",
              "4                                    3766     317962       165109   \n",
              "7                United States        876        430        20180   \n",
              "6             Around the world       1215   25084073       847879   \n",
              "2              Los Angeles, CA        927    5896588       375913   \n",
              "9                       Brasil        990       1238       110007   \n",
              "5                   Texas, USA         20     826788         6509   \n",
              "3                 New York, NY      10997    2602188       467329   \n",
              "0   PGP: http://bit.ly/1Nja4jP       1732      63011       128293   \n",
              "1              London, England        404    3695120      1257919   \n",
              "8                                      59          2            4   \n",
              "\n",
              "    retweetcount                                               text  \\\n",
              "10             0  this is the most recent take i've read of the ...   \n",
              "4            194  The same GOP hailing Elon Musk as a free speec...   \n",
              "7            729  Shaun King, other liberals vow to leave Twitte...   \n",
              "6            114  Musk willing to invest up to $15 bln of own mo...   \n",
              "2           3850  Elon Musk is Twitter's new daddy ... and some ...   \n",
              "9            176  Hollywood reacts to Elon Musk's Twitter purcha...   \n",
              "5             96  Elon Musk Reportedly Set to Launch a Tender Of...   \n",
              "3            405  Florida Gov. Ron DeSantis threatens to go afte...   \n",
              "0          13841  The Elon news is crowding out a significantly ...   \n",
              "1          10797  🚨JUST IN 🚨\\nTwitter to accept Elon Musk’s $45 ...   \n",
              "8            445  We all know the only reason @ShaunKing came ba...   \n",
              "\n",
              "                                                 urls hashtags         score  \\\n",
              "10  https://maxread.substack.com/p/elon-musk-wont-...       []      3.086062   \n",
              "4   https://www.washingtonpost.com/opinions/2022/0...       []    256.669748   \n",
              "7   https://nypost.com/2022/04/26/shaun-king-other...       []    442.491238   \n",
              "6   https://www.reuters.com/technology/elon-musk-i...       []  33079.688860   \n",
              "2   https://www.tmz.com/2022/04/25/elon-musk-new-o...       []  12482.107846   \n",
              "9   https://www.foxnews.com/entertainment/hollywoo...       []    112.641824   \n",
              "5   https://watcher.guru/news/elon-musk-willing-to...       []  63054.861133   \n",
              "3   https://nypost.com/2022/04/19/ron-desantis-thr...       []    627.238672   \n",
              "0   https://nypost.com/2022/04/25/russia-appears-t...       []   8367.884314   \n",
              "1   https://www.independent.co.uk/tech/twitter-elo...       []  21082.308542   \n",
              "8                           https://www.mypillow.com/       []    267.682060   \n",
              "\n",
              "                                                title  \\\n",
              "10  Elon Musk won't fix Twitter (but he won't kill...   \n",
              "4   Opinion | Conservatives cheering on Elon Musk ...   \n",
              "7   Shaun King, other liberals vow to leave Twitte...   \n",
              "6   Musk tweets cryptic phrase days after Twitter ...   \n",
              "2              Elon Musk Buys Twitter for $44 Billion   \n",
              "9   Hollywood reacts to Elon Musk's Twitter purcha...   \n",
              "5   Elon Musk Willing to Invest $15 Billion to Tak...   \n",
              "3   Ron DeSantis threatens Twitter board over Elon...   \n",
              "0   Russia appears to confuse 'The Sims' for SIM c...   \n",
              "1   Twitter: Elon Musk takeover announced with Tes...   \n",
              "8                                           Home Page   \n",
              "\n",
              "                                                 body  bm25_score  \n",
              "10  Read Max\\nSubscribe\\nSign in\\nElon Musk won't ...   22.035982  \n",
              "4   Accessibility statement\\nSkip to main content\\...   19.478697  \n",
              "7   Primary Menu\\nSECTIONS\\nNew York Post\\nLOG IN\\...   17.018772  \n",
              "6   Reuters home\\nWorld\\nBusiness\\nLegal\\nMarkets\\...   14.884846  \n",
              "2   Skip to main content\\nGOT A TIP?\\nTMZ\\nYou hav...   13.191287  \n",
              "9   Fox News\\n2:46 PM\\nU.S.\\nPolitics\\nMedia\\nOpin...   12.765551  \n",
              "5   GENERAL CRYPTO\\n2 minute read\\nElon Musk Willi...   12.429563  \n",
              "3   Primary Menu\\nSECTIONS\\nNew York Post\\nLOG IN\\...   11.485096  \n",
              "0   Primary Menu\\nSECTIONS\\nNew York Post\\nLOG IN\\...   10.905855  \n",
              "1   Contribute\\nSubscribe\\nLOGIN\\nTech\\nTwitter: E...    6.665566  \n",
              "8   Skip to Content\\nContact Us\\nSign In\\nSearch\\n...    2.419849  "
            ],
            "text/html": [
              "\n",
              "  <div id=\"df-3b51f235-0404-4e05-963a-974fd50fe408\">\n",
              "    <div class=\"colab-df-container\">\n",
              "      <div>\n",
              "<style scoped>\n",
              "    .dataframe tbody tr th:only-of-type {\n",
              "        vertical-align: middle;\n",
              "    }\n",
              "\n",
              "    .dataframe tbody tr th {\n",
              "        vertical-align: top;\n",
              "    }\n",
              "\n",
              "    .dataframe thead th {\n",
              "        text-align: right;\n",
              "    }\n",
              "</style>\n",
              "<table border=\"1\" class=\"dataframe\">\n",
              "  <thead>\n",
              "    <tr style=\"text-align: right;\">\n",
              "      <th></th>\n",
              "      <th>username</th>\n",
              "      <th>description</th>\n",
              "      <th>location</th>\n",
              "      <th>following</th>\n",
              "      <th>followers</th>\n",
              "      <th>totaltweets</th>\n",
              "      <th>retweetcount</th>\n",
              "      <th>text</th>\n",
              "      <th>urls</th>\n",
              "      <th>hashtags</th>\n",
              "      <th>score</th>\n",
              "      <th>title</th>\n",
              "      <th>body</th>\n",
              "      <th>bm25_score</th>\n",
              "    </tr>\n",
              "  </thead>\n",
              "  <tbody>\n",
              "    <tr>\n",
              "      <th>10</th>\n",
              "      <td>fauxrealist</td>\n",
              "      <td>news editor/photographer/anthropology student;...</td>\n",
              "      <td>LA</td>\n",
              "      <td>2003</td>\n",
              "      <td>431</td>\n",
              "      <td>551</td>\n",
              "      <td>0</td>\n",
              "      <td>this is the most recent take i've read of the ...</td>\n",
              "      <td>https://maxread.substack.com/p/elon-musk-wont-...</td>\n",
              "      <td>[]</td>\n",
              "      <td>3.086062</td>\n",
              "      <td>Elon Musk won't fix Twitter (but he won't kill...</td>\n",
              "      <td>Read Max\\nSubscribe\\nSign in\\nElon Musk won't ...</td>\n",
              "      <td>22.035982</td>\n",
              "    </tr>\n",
              "    <tr>\n",
              "      <th>4</th>\n",
              "      <td>ThePlumLineGS</td>\n",
              "      <td>A blog about politics, politics, and politics</td>\n",
              "      <td></td>\n",
              "      <td>3766</td>\n",
              "      <td>317962</td>\n",
              "      <td>165109</td>\n",
              "      <td>194</td>\n",
              "      <td>The same GOP hailing Elon Musk as a free speec...</td>\n",
              "      <td>https://www.washingtonpost.com/opinions/2022/0...</td>\n",
              "      <td>[]</td>\n",
              "      <td>256.669748</td>\n",
              "      <td>Opinion | Conservatives cheering on Elon Musk ...</td>\n",
              "      <td>Accessibility statement\\nSkip to main content\\...</td>\n",
              "      <td>19.478697</td>\n",
              "    </tr>\n",
              "    <tr>\n",
              "      <th>7</th>\n",
              "      <td>Acent80Anthony</td>\n",
              "      <td></td>\n",
              "      <td>United States</td>\n",
              "      <td>876</td>\n",
              "      <td>430</td>\n",
              "      <td>20180</td>\n",
              "      <td>729</td>\n",
              "      <td>Shaun King, other liberals vow to leave Twitte...</td>\n",
              "      <td>https://nypost.com/2022/04/26/shaun-king-other...</td>\n",
              "      <td>[]</td>\n",
              "      <td>442.491238</td>\n",
              "      <td>Shaun King, other liberals vow to leave Twitte...</td>\n",
              "      <td>Primary Menu\\nSECTIONS\\nNew York Post\\nLOG IN\\...</td>\n",
              "      <td>17.018772</td>\n",
              "    </tr>\n",
              "    <tr>\n",
              "      <th>6</th>\n",
              "      <td>Reuters</td>\n",
              "      <td>Top and breaking news, pictures and videos fro...</td>\n",
              "      <td>Around the world</td>\n",
              "      <td>1215</td>\n",
              "      <td>25084073</td>\n",
              "      <td>847879</td>\n",
              "      <td>114</td>\n",
              "      <td>Musk willing to invest up to $15 bln of own mo...</td>\n",
              "      <td>https://www.reuters.com/technology/elon-musk-i...</td>\n",
              "      <td>[]</td>\n",
              "      <td>33079.688860</td>\n",
              "      <td>Musk tweets cryptic phrase days after Twitter ...</td>\n",
              "      <td>Reuters home\\nWorld\\nBusiness\\nLegal\\nMarkets\\...</td>\n",
              "      <td>14.884846</td>\n",
              "    </tr>\n",
              "    <tr>\n",
              "      <th>2</th>\n",
              "      <td>TMZ</td>\n",
              "      <td>Breaking entertainment news as it happens.</td>\n",
              "      <td>Los Angeles, CA</td>\n",
              "      <td>927</td>\n",
              "      <td>5896588</td>\n",
              "      <td>375913</td>\n",
              "      <td>3850</td>\n",
              "      <td>Elon Musk is Twitter's new daddy ... and some ...</td>\n",
              "      <td>https://www.tmz.com/2022/04/25/elon-musk-new-o...</td>\n",
              "      <td>[]</td>\n",
              "      <td>12482.107846</td>\n",
              "      <td>Elon Musk Buys Twitter for $44 Billion</td>\n",
              "      <td>Skip to main content\\nGOT A TIP?\\nTMZ\\nYou hav...</td>\n",
              "      <td>13.191287</td>\n",
              "    </tr>\n",
              "    <tr>\n",
              "      <th>9</th>\n",
              "      <td>mcordeirobrasil</td>\n",
              "      <td>De direita com muito orgulho.</td>\n",
              "      <td>Brasil</td>\n",
              "      <td>990</td>\n",
              "      <td>1238</td>\n",
              "      <td>110007</td>\n",
              "      <td>176</td>\n",
              "      <td>Hollywood reacts to Elon Musk's Twitter purcha...</td>\n",
              "      <td>https://www.foxnews.com/entertainment/hollywoo...</td>\n",
              "      <td>[]</td>\n",
              "      <td>112.641824</td>\n",
              "      <td>Hollywood reacts to Elon Musk's Twitter purcha...</td>\n",
              "      <td>Fox News\\n2:46 PM\\nU.S.\\nPolitics\\nMedia\\nOpin...</td>\n",
              "      <td>12.765551</td>\n",
              "    </tr>\n",
              "    <tr>\n",
              "      <th>5</th>\n",
              "      <td>WatcherGuru</td>\n",
              "      <td>Watcher Guru gives you unparalleled coverage o...</td>\n",
              "      <td>Texas, USA</td>\n",
              "      <td>20</td>\n",
              "      <td>826788</td>\n",
              "      <td>6509</td>\n",
              "      <td>96</td>\n",
              "      <td>Elon Musk Reportedly Set to Launch a Tender Of...</td>\n",
              "      <td>https://watcher.guru/news/elon-musk-willing-to...</td>\n",
              "      <td>[]</td>\n",
              "      <td>63054.861133</td>\n",
              "      <td>Elon Musk Willing to Invest $15 Billion to Tak...</td>\n",
              "      <td>GENERAL CRYPTO\\n2 minute read\\nElon Musk Willi...</td>\n",
              "      <td>12.429563</td>\n",
              "    </tr>\n",
              "    <tr>\n",
              "      <th>3</th>\n",
              "      <td>nypost</td>\n",
              "      <td>Breaking news &amp; features from The New York Pos...</td>\n",
              "      <td>New York, NY</td>\n",
              "      <td>10997</td>\n",
              "      <td>2602188</td>\n",
              "      <td>467329</td>\n",
              "      <td>405</td>\n",
              "      <td>Florida Gov. Ron DeSantis threatens to go afte...</td>\n",
              "      <td>https://nypost.com/2022/04/19/ron-desantis-thr...</td>\n",
              "      <td>[]</td>\n",
              "      <td>627.238672</td>\n",
              "      <td>Ron DeSantis threatens Twitter board over Elon...</td>\n",
              "      <td>Primary Menu\\nSECTIONS\\nNew York Post\\nLOG IN\\...</td>\n",
              "      <td>11.485096</td>\n",
              "    </tr>\n",
              "    <tr>\n",
              "      <th>0</th>\n",
              "      <td>tomgara</td>\n",
              "      <td>writing and editing things. now: @meta, former...</td>\n",
              "      <td>PGP: http://bit.ly/1Nja4jP</td>\n",
              "      <td>1732</td>\n",
              "      <td>63011</td>\n",
              "      <td>128293</td>\n",
              "      <td>13841</td>\n",
              "      <td>The Elon news is crowding out a significantly ...</td>\n",
              "      <td>https://nypost.com/2022/04/25/russia-appears-t...</td>\n",
              "      <td>[]</td>\n",
              "      <td>8367.884314</td>\n",
              "      <td>Russia appears to confuse 'The Sims' for SIM c...</td>\n",
              "      <td>Primary Menu\\nSECTIONS\\nNew York Post\\nLOG IN\\...</td>\n",
              "      <td>10.905855</td>\n",
              "    </tr>\n",
              "    <tr>\n",
              "      <th>1</th>\n",
              "      <td>Independent</td>\n",
              "      <td>News, comment and features from The Independen...</td>\n",
              "      <td>London, England</td>\n",
              "      <td>404</td>\n",
              "      <td>3695120</td>\n",
              "      <td>1257919</td>\n",
              "      <td>10797</td>\n",
              "      <td>🚨JUST IN 🚨\\nTwitter to accept Elon Musk’s $45 ...</td>\n",
              "      <td>https://www.independent.co.uk/tech/twitter-elo...</td>\n",
              "      <td>[]</td>\n",
              "      <td>21082.308542</td>\n",
              "      <td>Twitter: Elon Musk takeover announced with Tes...</td>\n",
              "      <td>Contribute\\nSubscribe\\nLOGIN\\nTech\\nTwitter: E...</td>\n",
              "      <td>6.665566</td>\n",
              "    </tr>\n",
              "    <tr>\n",
              "      <th>8</th>\n",
              "      <td>RyanKnolton</td>\n",
              "      <td></td>\n",
              "      <td></td>\n",
              "      <td>59</td>\n",
              "      <td>2</td>\n",
              "      <td>4</td>\n",
              "      <td>445</td>\n",
              "      <td>We all know the only reason @ShaunKing came ba...</td>\n",
              "      <td>https://www.mypillow.com/</td>\n",
              "      <td>[]</td>\n",
              "      <td>267.682060</td>\n",
              "      <td>Home Page</td>\n",
              "      <td>Skip to Content\\nContact Us\\nSign In\\nSearch\\n...</td>\n",
              "      <td>2.419849</td>\n",
              "    </tr>\n",
              "  </tbody>\n",
              "</table>\n",
              "</div>\n",
              "      <button class=\"colab-df-convert\" onclick=\"convertToInteractive('df-3b51f235-0404-4e05-963a-974fd50fe408')\"\n",
              "              title=\"Convert this dataframe to an interactive table.\"\n",
              "              style=\"display:none;\">\n",
              "        \n",
              "  <svg xmlns=\"http://www.w3.org/2000/svg\" height=\"24px\"viewBox=\"0 0 24 24\"\n",
              "       width=\"24px\">\n",
              "    <path d=\"M0 0h24v24H0V0z\" fill=\"none\"/>\n",
              "    <path d=\"M18.56 5.44l.94 2.06.94-2.06 2.06-.94-2.06-.94-.94-2.06-.94 2.06-2.06.94zm-11 1L8.5 8.5l.94-2.06 2.06-.94-2.06-.94L8.5 2.5l-.94 2.06-2.06.94zm10 10l.94 2.06.94-2.06 2.06-.94-2.06-.94-.94-2.06-.94 2.06-2.06.94z\"/><path d=\"M17.41 7.96l-1.37-1.37c-.4-.4-.92-.59-1.43-.59-.52 0-1.04.2-1.43.59L10.3 9.45l-7.72 7.72c-.78.78-.78 2.05 0 2.83L4 21.41c.39.39.9.59 1.41.59.51 0 1.02-.2 1.41-.59l7.78-7.78 2.81-2.81c.8-.78.8-2.07 0-2.86zM5.41 20L4 18.59l7.72-7.72 1.47 1.35L5.41 20z\"/>\n",
              "  </svg>\n",
              "      </button>\n",
              "      \n",
              "  <style>\n",
              "    .colab-df-container {\n",
              "      display:flex;\n",
              "      flex-wrap:wrap;\n",
              "      gap: 12px;\n",
              "    }\n",
              "\n",
              "    .colab-df-convert {\n",
              "      background-color: #E8F0FE;\n",
              "      border: none;\n",
              "      border-radius: 50%;\n",
              "      cursor: pointer;\n",
              "      display: none;\n",
              "      fill: #1967D2;\n",
              "      height: 32px;\n",
              "      padding: 0 0 0 0;\n",
              "      width: 32px;\n",
              "    }\n",
              "\n",
              "    .colab-df-convert:hover {\n",
              "      background-color: #E2EBFA;\n",
              "      box-shadow: 0px 1px 2px rgba(60, 64, 67, 0.3), 0px 1px 3px 1px rgba(60, 64, 67, 0.15);\n",
              "      fill: #174EA6;\n",
              "    }\n",
              "\n",
              "    [theme=dark] .colab-df-convert {\n",
              "      background-color: #3B4455;\n",
              "      fill: #D2E3FC;\n",
              "    }\n",
              "\n",
              "    [theme=dark] .colab-df-convert:hover {\n",
              "      background-color: #434B5C;\n",
              "      box-shadow: 0px 1px 3px 1px rgba(0, 0, 0, 0.15);\n",
              "      filter: drop-shadow(0px 1px 2px rgba(0, 0, 0, 0.3));\n",
              "      fill: #FFFFFF;\n",
              "    }\n",
              "  </style>\n",
              "\n",
              "      <script>\n",
              "        const buttonEl =\n",
              "          document.querySelector('#df-3b51f235-0404-4e05-963a-974fd50fe408 button.colab-df-convert');\n",
              "        buttonEl.style.display =\n",
              "          google.colab.kernel.accessAllowed ? 'block' : 'none';\n",
              "\n",
              "        async function convertToInteractive(key) {\n",
              "          const element = document.querySelector('#df-3b51f235-0404-4e05-963a-974fd50fe408');\n",
              "          const dataTable =\n",
              "            await google.colab.kernel.invokeFunction('convertToInteractive',\n",
              "                                                     [key], {});\n",
              "          if (!dataTable) return;\n",
              "\n",
              "          const docLinkHtml = 'Like what you see? Visit the ' +\n",
              "            '<a target=\"_blank\" href=https://colab.research.google.com/notebooks/data_table.ipynb>data table notebook</a>'\n",
              "            + ' to learn more about interactive tables.';\n",
              "          element.innerHTML = '';\n",
              "          dataTable['output_type'] = 'display_data';\n",
              "          await google.colab.output.renderOutput(dataTable, element);\n",
              "          const docLink = document.createElement('div');\n",
              "          docLink.innerHTML = docLinkHtml;\n",
              "          element.appendChild(docLink);\n",
              "        }\n",
              "      </script>\n",
              "    </div>\n",
              "  </div>\n",
              "  "
            ]
          },
          "metadata": {},
          "execution_count": 22
        }
      ]
    },
    {
      "cell_type": "markdown",
      "source": [
        "# PyTerrier"
      ],
      "metadata": {
        "id": "HlAxOBqMSLVh"
      }
    },
    {
      "cell_type": "code",
      "source": [
        "import pyterrier as pt\n",
        "if not pt.started():\n",
        "  pt.init()"
      ],
      "metadata": {
        "id": "HXFRsvLss5tl",
        "colab": {
          "base_uri": "https://localhost:8080/"
        },
        "outputId": "6ba5e189-29a6-4d6e-d7a9-f2da5c01c4ac"
      },
      "execution_count": null,
      "outputs": [
        {
          "output_type": "stream",
          "name": "stdout",
          "text": [
            "terrier-assemblies 5.6 jar-with-dependencies not found, downloading to /root/.pyterrier...\n",
            "Done\n",
            "terrier-python-helper 0.0.6 jar not found, downloading to /root/.pyterrier...\n",
            "Done\n"
          ]
        },
        {
          "output_type": "stream",
          "name": "stderr",
          "text": [
            "PyTerrier 0.8.1 has loaded Terrier 5.6 (built by craigmacdonald on 2021-09-17 13:27)\n",
            "\n"
          ]
        }
      ]
    },
    {
      "cell_type": "code",
      "source": [
        "df_final"
      ],
      "metadata": {
        "id": "1V2841UytE6l",
        "colab": {
          "base_uri": "https://localhost:8080/",
          "height": 907
        },
        "outputId": "68eab8a2-50c2-4660-e56e-3481ffc82b32"
      },
      "execution_count": null,
      "outputs": [
        {
          "output_type": "execute_result",
          "data": {
            "text/plain": [
              "           username                                        description  \\\n",
              "0           tomgara  writing and editing things. now: @meta, former...   \n",
              "1       Independent  News, comment and features from The Independen...   \n",
              "2               TMZ         Breaking entertainment news as it happens.   \n",
              "3            nypost  Breaking news & features from The New York Pos...   \n",
              "4     ThePlumLineGS      A blog about politics, politics, and politics   \n",
              "5       WatcherGuru  Watcher Guru gives you unparalleled coverage o...   \n",
              "6           Reuters  Top and breaking news, pictures and videos fro...   \n",
              "7    Acent80Anthony                                                      \n",
              "8       RyanKnolton                                                      \n",
              "9   mcordeirobrasil                      De direita com muito orgulho.   \n",
              "10      fauxrealist  news editor/photographer/anthropology student;...   \n",
              "\n",
              "                      location  following  followers  totaltweets  \\\n",
              "0   PGP: http://bit.ly/1Nja4jP       1732      63011       128293   \n",
              "1              London, England        404    3695120      1257919   \n",
              "2              Los Angeles, CA        927    5896588       375913   \n",
              "3                 New York, NY      10997    2602188       467329   \n",
              "4                                    3766     317962       165109   \n",
              "5                   Texas, USA         20     826788         6509   \n",
              "6             Around the world       1215   25084073       847879   \n",
              "7                United States        876        430        20180   \n",
              "8                                      59          2            4   \n",
              "9                       Brasil        990       1238       110007   \n",
              "10                          LA       2003        431          551   \n",
              "\n",
              "    retweetcount                                               text  \\\n",
              "0          13841  The Elon news is crowding out a significantly ...   \n",
              "1          10797  🚨JUST IN 🚨\\nTwitter to accept Elon Musk’s $45 ...   \n",
              "2           3850  Elon Musk is Twitter's new daddy ... and some ...   \n",
              "3            405  Florida Gov. Ron DeSantis threatens to go afte...   \n",
              "4            194  The same GOP hailing Elon Musk as a free speec...   \n",
              "5             96  Elon Musk Reportedly Set to Launch a Tender Of...   \n",
              "6            114  Musk willing to invest up to $15 bln of own mo...   \n",
              "7            729  Shaun King, other liberals vow to leave Twitte...   \n",
              "8            445  We all know the only reason @ShaunKing came ba...   \n",
              "9            176  Hollywood reacts to Elon Musk's Twitter purcha...   \n",
              "10             0  this is the most recent take i've read of the ...   \n",
              "\n",
              "                                                 urls hashtags         score  \\\n",
              "0   https://nypost.com/2022/04/25/russia-appears-t...       []   8367.884314   \n",
              "1   https://www.independent.co.uk/tech/twitter-elo...       []  21082.308542   \n",
              "2   https://www.tmz.com/2022/04/25/elon-musk-new-o...       []  12482.107846   \n",
              "3   https://nypost.com/2022/04/19/ron-desantis-thr...       []    627.238672   \n",
              "4   https://www.washingtonpost.com/opinions/2022/0...       []    256.669748   \n",
              "5   https://watcher.guru/news/elon-musk-willing-to...       []  63054.861133   \n",
              "6   https://www.reuters.com/technology/elon-musk-i...       []  33079.688860   \n",
              "7   https://nypost.com/2022/04/26/shaun-king-other...       []    442.491238   \n",
              "8                           https://www.mypillow.com/       []    267.682060   \n",
              "9   https://www.foxnews.com/entertainment/hollywoo...       []    112.641824   \n",
              "10  https://maxread.substack.com/p/elon-musk-wont-...       []      3.086062   \n",
              "\n",
              "                                                title  \\\n",
              "0   Russia appears to confuse 'The Sims' for SIM c...   \n",
              "1   Twitter: Elon Musk takeover announced with Tes...   \n",
              "2              Elon Musk Buys Twitter for $44 Billion   \n",
              "3   Ron DeSantis threatens Twitter board over Elon...   \n",
              "4   Opinion | Conservatives cheering on Elon Musk ...   \n",
              "5   Elon Musk Willing to Invest $15 Billion to Tak...   \n",
              "6   Musk tweets cryptic phrase days after Twitter ...   \n",
              "7   Shaun King, other liberals vow to leave Twitte...   \n",
              "8                                           Home Page   \n",
              "9   Hollywood reacts to Elon Musk's Twitter purcha...   \n",
              "10  Elon Musk won't fix Twitter (but he won't kill...   \n",
              "\n",
              "                                                 body  bm25_score  \n",
              "0   Primary Menu\\nSECTIONS\\nNew York Post\\nLOG IN\\...   10.905855  \n",
              "1   Contribute\\nSubscribe\\nLOGIN\\nTech\\nTwitter: E...    6.665566  \n",
              "2   Skip to main content\\nGOT A TIP?\\nTMZ\\nYou hav...   13.191287  \n",
              "3   Primary Menu\\nSECTIONS\\nNew York Post\\nLOG IN\\...   11.485096  \n",
              "4   Accessibility statement\\nSkip to main content\\...   19.478697  \n",
              "5   GENERAL CRYPTO\\n2 minute read\\nElon Musk Willi...   12.429563  \n",
              "6   Reuters home\\nWorld\\nBusiness\\nLegal\\nMarkets\\...   14.884846  \n",
              "7   Primary Menu\\nSECTIONS\\nNew York Post\\nLOG IN\\...   17.018772  \n",
              "8   Skip to Content\\nContact Us\\nSign In\\nSearch\\n...    2.419849  \n",
              "9   Fox News\\n2:46 PM\\nU.S.\\nPolitics\\nMedia\\nOpin...   12.765551  \n",
              "10  Read Max\\nSubscribe\\nSign in\\nElon Musk won't ...   22.035982  "
            ],
            "text/html": [
              "\n",
              "  <div id=\"df-318af2f8-8222-4ee7-b227-7e59fe583654\">\n",
              "    <div class=\"colab-df-container\">\n",
              "      <div>\n",
              "<style scoped>\n",
              "    .dataframe tbody tr th:only-of-type {\n",
              "        vertical-align: middle;\n",
              "    }\n",
              "\n",
              "    .dataframe tbody tr th {\n",
              "        vertical-align: top;\n",
              "    }\n",
              "\n",
              "    .dataframe thead th {\n",
              "        text-align: right;\n",
              "    }\n",
              "</style>\n",
              "<table border=\"1\" class=\"dataframe\">\n",
              "  <thead>\n",
              "    <tr style=\"text-align: right;\">\n",
              "      <th></th>\n",
              "      <th>username</th>\n",
              "      <th>description</th>\n",
              "      <th>location</th>\n",
              "      <th>following</th>\n",
              "      <th>followers</th>\n",
              "      <th>totaltweets</th>\n",
              "      <th>retweetcount</th>\n",
              "      <th>text</th>\n",
              "      <th>urls</th>\n",
              "      <th>hashtags</th>\n",
              "      <th>score</th>\n",
              "      <th>title</th>\n",
              "      <th>body</th>\n",
              "      <th>bm25_score</th>\n",
              "    </tr>\n",
              "  </thead>\n",
              "  <tbody>\n",
              "    <tr>\n",
              "      <th>0</th>\n",
              "      <td>tomgara</td>\n",
              "      <td>writing and editing things. now: @meta, former...</td>\n",
              "      <td>PGP: http://bit.ly/1Nja4jP</td>\n",
              "      <td>1732</td>\n",
              "      <td>63011</td>\n",
              "      <td>128293</td>\n",
              "      <td>13841</td>\n",
              "      <td>The Elon news is crowding out a significantly ...</td>\n",
              "      <td>https://nypost.com/2022/04/25/russia-appears-t...</td>\n",
              "      <td>[]</td>\n",
              "      <td>8367.884314</td>\n",
              "      <td>Russia appears to confuse 'The Sims' for SIM c...</td>\n",
              "      <td>Primary Menu\\nSECTIONS\\nNew York Post\\nLOG IN\\...</td>\n",
              "      <td>10.905855</td>\n",
              "    </tr>\n",
              "    <tr>\n",
              "      <th>1</th>\n",
              "      <td>Independent</td>\n",
              "      <td>News, comment and features from The Independen...</td>\n",
              "      <td>London, England</td>\n",
              "      <td>404</td>\n",
              "      <td>3695120</td>\n",
              "      <td>1257919</td>\n",
              "      <td>10797</td>\n",
              "      <td>🚨JUST IN 🚨\\nTwitter to accept Elon Musk’s $45 ...</td>\n",
              "      <td>https://www.independent.co.uk/tech/twitter-elo...</td>\n",
              "      <td>[]</td>\n",
              "      <td>21082.308542</td>\n",
              "      <td>Twitter: Elon Musk takeover announced with Tes...</td>\n",
              "      <td>Contribute\\nSubscribe\\nLOGIN\\nTech\\nTwitter: E...</td>\n",
              "      <td>6.665566</td>\n",
              "    </tr>\n",
              "    <tr>\n",
              "      <th>2</th>\n",
              "      <td>TMZ</td>\n",
              "      <td>Breaking entertainment news as it happens.</td>\n",
              "      <td>Los Angeles, CA</td>\n",
              "      <td>927</td>\n",
              "      <td>5896588</td>\n",
              "      <td>375913</td>\n",
              "      <td>3850</td>\n",
              "      <td>Elon Musk is Twitter's new daddy ... and some ...</td>\n",
              "      <td>https://www.tmz.com/2022/04/25/elon-musk-new-o...</td>\n",
              "      <td>[]</td>\n",
              "      <td>12482.107846</td>\n",
              "      <td>Elon Musk Buys Twitter for $44 Billion</td>\n",
              "      <td>Skip to main content\\nGOT A TIP?\\nTMZ\\nYou hav...</td>\n",
              "      <td>13.191287</td>\n",
              "    </tr>\n",
              "    <tr>\n",
              "      <th>3</th>\n",
              "      <td>nypost</td>\n",
              "      <td>Breaking news &amp; features from The New York Pos...</td>\n",
              "      <td>New York, NY</td>\n",
              "      <td>10997</td>\n",
              "      <td>2602188</td>\n",
              "      <td>467329</td>\n",
              "      <td>405</td>\n",
              "      <td>Florida Gov. Ron DeSantis threatens to go afte...</td>\n",
              "      <td>https://nypost.com/2022/04/19/ron-desantis-thr...</td>\n",
              "      <td>[]</td>\n",
              "      <td>627.238672</td>\n",
              "      <td>Ron DeSantis threatens Twitter board over Elon...</td>\n",
              "      <td>Primary Menu\\nSECTIONS\\nNew York Post\\nLOG IN\\...</td>\n",
              "      <td>11.485096</td>\n",
              "    </tr>\n",
              "    <tr>\n",
              "      <th>4</th>\n",
              "      <td>ThePlumLineGS</td>\n",
              "      <td>A blog about politics, politics, and politics</td>\n",
              "      <td></td>\n",
              "      <td>3766</td>\n",
              "      <td>317962</td>\n",
              "      <td>165109</td>\n",
              "      <td>194</td>\n",
              "      <td>The same GOP hailing Elon Musk as a free speec...</td>\n",
              "      <td>https://www.washingtonpost.com/opinions/2022/0...</td>\n",
              "      <td>[]</td>\n",
              "      <td>256.669748</td>\n",
              "      <td>Opinion | Conservatives cheering on Elon Musk ...</td>\n",
              "      <td>Accessibility statement\\nSkip to main content\\...</td>\n",
              "      <td>19.478697</td>\n",
              "    </tr>\n",
              "    <tr>\n",
              "      <th>5</th>\n",
              "      <td>WatcherGuru</td>\n",
              "      <td>Watcher Guru gives you unparalleled coverage o...</td>\n",
              "      <td>Texas, USA</td>\n",
              "      <td>20</td>\n",
              "      <td>826788</td>\n",
              "      <td>6509</td>\n",
              "      <td>96</td>\n",
              "      <td>Elon Musk Reportedly Set to Launch a Tender Of...</td>\n",
              "      <td>https://watcher.guru/news/elon-musk-willing-to...</td>\n",
              "      <td>[]</td>\n",
              "      <td>63054.861133</td>\n",
              "      <td>Elon Musk Willing to Invest $15 Billion to Tak...</td>\n",
              "      <td>GENERAL CRYPTO\\n2 minute read\\nElon Musk Willi...</td>\n",
              "      <td>12.429563</td>\n",
              "    </tr>\n",
              "    <tr>\n",
              "      <th>6</th>\n",
              "      <td>Reuters</td>\n",
              "      <td>Top and breaking news, pictures and videos fro...</td>\n",
              "      <td>Around the world</td>\n",
              "      <td>1215</td>\n",
              "      <td>25084073</td>\n",
              "      <td>847879</td>\n",
              "      <td>114</td>\n",
              "      <td>Musk willing to invest up to $15 bln of own mo...</td>\n",
              "      <td>https://www.reuters.com/technology/elon-musk-i...</td>\n",
              "      <td>[]</td>\n",
              "      <td>33079.688860</td>\n",
              "      <td>Musk tweets cryptic phrase days after Twitter ...</td>\n",
              "      <td>Reuters home\\nWorld\\nBusiness\\nLegal\\nMarkets\\...</td>\n",
              "      <td>14.884846</td>\n",
              "    </tr>\n",
              "    <tr>\n",
              "      <th>7</th>\n",
              "      <td>Acent80Anthony</td>\n",
              "      <td></td>\n",
              "      <td>United States</td>\n",
              "      <td>876</td>\n",
              "      <td>430</td>\n",
              "      <td>20180</td>\n",
              "      <td>729</td>\n",
              "      <td>Shaun King, other liberals vow to leave Twitte...</td>\n",
              "      <td>https://nypost.com/2022/04/26/shaun-king-other...</td>\n",
              "      <td>[]</td>\n",
              "      <td>442.491238</td>\n",
              "      <td>Shaun King, other liberals vow to leave Twitte...</td>\n",
              "      <td>Primary Menu\\nSECTIONS\\nNew York Post\\nLOG IN\\...</td>\n",
              "      <td>17.018772</td>\n",
              "    </tr>\n",
              "    <tr>\n",
              "      <th>8</th>\n",
              "      <td>RyanKnolton</td>\n",
              "      <td></td>\n",
              "      <td></td>\n",
              "      <td>59</td>\n",
              "      <td>2</td>\n",
              "      <td>4</td>\n",
              "      <td>445</td>\n",
              "      <td>We all know the only reason @ShaunKing came ba...</td>\n",
              "      <td>https://www.mypillow.com/</td>\n",
              "      <td>[]</td>\n",
              "      <td>267.682060</td>\n",
              "      <td>Home Page</td>\n",
              "      <td>Skip to Content\\nContact Us\\nSign In\\nSearch\\n...</td>\n",
              "      <td>2.419849</td>\n",
              "    </tr>\n",
              "    <tr>\n",
              "      <th>9</th>\n",
              "      <td>mcordeirobrasil</td>\n",
              "      <td>De direita com muito orgulho.</td>\n",
              "      <td>Brasil</td>\n",
              "      <td>990</td>\n",
              "      <td>1238</td>\n",
              "      <td>110007</td>\n",
              "      <td>176</td>\n",
              "      <td>Hollywood reacts to Elon Musk's Twitter purcha...</td>\n",
              "      <td>https://www.foxnews.com/entertainment/hollywoo...</td>\n",
              "      <td>[]</td>\n",
              "      <td>112.641824</td>\n",
              "      <td>Hollywood reacts to Elon Musk's Twitter purcha...</td>\n",
              "      <td>Fox News\\n2:46 PM\\nU.S.\\nPolitics\\nMedia\\nOpin...</td>\n",
              "      <td>12.765551</td>\n",
              "    </tr>\n",
              "    <tr>\n",
              "      <th>10</th>\n",
              "      <td>fauxrealist</td>\n",
              "      <td>news editor/photographer/anthropology student;...</td>\n",
              "      <td>LA</td>\n",
              "      <td>2003</td>\n",
              "      <td>431</td>\n",
              "      <td>551</td>\n",
              "      <td>0</td>\n",
              "      <td>this is the most recent take i've read of the ...</td>\n",
              "      <td>https://maxread.substack.com/p/elon-musk-wont-...</td>\n",
              "      <td>[]</td>\n",
              "      <td>3.086062</td>\n",
              "      <td>Elon Musk won't fix Twitter (but he won't kill...</td>\n",
              "      <td>Read Max\\nSubscribe\\nSign in\\nElon Musk won't ...</td>\n",
              "      <td>22.035982</td>\n",
              "    </tr>\n",
              "  </tbody>\n",
              "</table>\n",
              "</div>\n",
              "      <button class=\"colab-df-convert\" onclick=\"convertToInteractive('df-318af2f8-8222-4ee7-b227-7e59fe583654')\"\n",
              "              title=\"Convert this dataframe to an interactive table.\"\n",
              "              style=\"display:none;\">\n",
              "        \n",
              "  <svg xmlns=\"http://www.w3.org/2000/svg\" height=\"24px\"viewBox=\"0 0 24 24\"\n",
              "       width=\"24px\">\n",
              "    <path d=\"M0 0h24v24H0V0z\" fill=\"none\"/>\n",
              "    <path d=\"M18.56 5.44l.94 2.06.94-2.06 2.06-.94-2.06-.94-.94-2.06-.94 2.06-2.06.94zm-11 1L8.5 8.5l.94-2.06 2.06-.94-2.06-.94L8.5 2.5l-.94 2.06-2.06.94zm10 10l.94 2.06.94-2.06 2.06-.94-2.06-.94-.94-2.06-.94 2.06-2.06.94z\"/><path d=\"M17.41 7.96l-1.37-1.37c-.4-.4-.92-.59-1.43-.59-.52 0-1.04.2-1.43.59L10.3 9.45l-7.72 7.72c-.78.78-.78 2.05 0 2.83L4 21.41c.39.39.9.59 1.41.59.51 0 1.02-.2 1.41-.59l7.78-7.78 2.81-2.81c.8-.78.8-2.07 0-2.86zM5.41 20L4 18.59l7.72-7.72 1.47 1.35L5.41 20z\"/>\n",
              "  </svg>\n",
              "      </button>\n",
              "      \n",
              "  <style>\n",
              "    .colab-df-container {\n",
              "      display:flex;\n",
              "      flex-wrap:wrap;\n",
              "      gap: 12px;\n",
              "    }\n",
              "\n",
              "    .colab-df-convert {\n",
              "      background-color: #E8F0FE;\n",
              "      border: none;\n",
              "      border-radius: 50%;\n",
              "      cursor: pointer;\n",
              "      display: none;\n",
              "      fill: #1967D2;\n",
              "      height: 32px;\n",
              "      padding: 0 0 0 0;\n",
              "      width: 32px;\n",
              "    }\n",
              "\n",
              "    .colab-df-convert:hover {\n",
              "      background-color: #E2EBFA;\n",
              "      box-shadow: 0px 1px 2px rgba(60, 64, 67, 0.3), 0px 1px 3px 1px rgba(60, 64, 67, 0.15);\n",
              "      fill: #174EA6;\n",
              "    }\n",
              "\n",
              "    [theme=dark] .colab-df-convert {\n",
              "      background-color: #3B4455;\n",
              "      fill: #D2E3FC;\n",
              "    }\n",
              "\n",
              "    [theme=dark] .colab-df-convert:hover {\n",
              "      background-color: #434B5C;\n",
              "      box-shadow: 0px 1px 3px 1px rgba(0, 0, 0, 0.15);\n",
              "      filter: drop-shadow(0px 1px 2px rgba(0, 0, 0, 0.3));\n",
              "      fill: #FFFFFF;\n",
              "    }\n",
              "  </style>\n",
              "\n",
              "      <script>\n",
              "        const buttonEl =\n",
              "          document.querySelector('#df-318af2f8-8222-4ee7-b227-7e59fe583654 button.colab-df-convert');\n",
              "        buttonEl.style.display =\n",
              "          google.colab.kernel.accessAllowed ? 'block' : 'none';\n",
              "\n",
              "        async function convertToInteractive(key) {\n",
              "          const element = document.querySelector('#df-318af2f8-8222-4ee7-b227-7e59fe583654');\n",
              "          const dataTable =\n",
              "            await google.colab.kernel.invokeFunction('convertToInteractive',\n",
              "                                                     [key], {});\n",
              "          if (!dataTable) return;\n",
              "\n",
              "          const docLinkHtml = 'Like what you see? Visit the ' +\n",
              "            '<a target=\"_blank\" href=https://colab.research.google.com/notebooks/data_table.ipynb>data table notebook</a>'\n",
              "            + ' to learn more about interactive tables.';\n",
              "          element.innerHTML = '';\n",
              "          dataTable['output_type'] = 'display_data';\n",
              "          await google.colab.output.renderOutput(dataTable, element);\n",
              "          const docLink = document.createElement('div');\n",
              "          docLink.innerHTML = docLinkHtml;\n",
              "          element.appendChild(docLink);\n",
              "        }\n",
              "      </script>\n",
              "    </div>\n",
              "  </div>\n",
              "  "
            ]
          },
          "metadata": {},
          "execution_count": 24
        }
      ]
    },
    {
      "cell_type": "code",
      "source": [
        "df_final.insert(12, 'docno', range(1, 1 + len(df_final)))"
      ],
      "metadata": {
        "id": "Qyn4jZIPtd_5"
      },
      "execution_count": null,
      "outputs": []
    },
    {
      "cell_type": "code",
      "source": [
        "df_final"
      ],
      "metadata": {
        "colab": {
          "base_uri": "https://localhost:8080/",
          "height": 959
        },
        "id": "xrdO2ufhcdEx",
        "outputId": "689caa68-ebf3-4ce7-a06b-2df97afb851f"
      },
      "execution_count": null,
      "outputs": [
        {
          "output_type": "execute_result",
          "data": {
            "text/plain": [
              "           username                                        description  \\\n",
              "0           tomgara  writing and editing things. now: @meta, former...   \n",
              "1       Independent  News, comment and features from The Independen...   \n",
              "2               TMZ         Breaking entertainment news as it happens.   \n",
              "3            nypost  Breaking news & features from The New York Pos...   \n",
              "4     ThePlumLineGS      A blog about politics, politics, and politics   \n",
              "5       WatcherGuru  Watcher Guru gives you unparalleled coverage o...   \n",
              "6           Reuters  Top and breaking news, pictures and videos fro...   \n",
              "7    Acent80Anthony                                                      \n",
              "8       RyanKnolton                                                      \n",
              "9   mcordeirobrasil                      De direita com muito orgulho.   \n",
              "10      fauxrealist  news editor/photographer/anthropology student;...   \n",
              "\n",
              "                      location  following  followers  totaltweets  \\\n",
              "0   PGP: http://bit.ly/1Nja4jP       1732      63011       128293   \n",
              "1              London, England        404    3695120      1257919   \n",
              "2              Los Angeles, CA        927    5896588       375913   \n",
              "3                 New York, NY      10997    2602188       467329   \n",
              "4                                    3766     317962       165109   \n",
              "5                   Texas, USA         20     826788         6509   \n",
              "6             Around the world       1215   25084073       847879   \n",
              "7                United States        876        430        20180   \n",
              "8                                      59          2            4   \n",
              "9                       Brasil        990       1238       110007   \n",
              "10                          LA       2003        431          551   \n",
              "\n",
              "    retweetcount                                               text  \\\n",
              "0          13841  The Elon news is crowding out a significantly ...   \n",
              "1          10797  🚨JUST IN 🚨\\nTwitter to accept Elon Musk’s $45 ...   \n",
              "2           3850  Elon Musk is Twitter's new daddy ... and some ...   \n",
              "3            405  Florida Gov. Ron DeSantis threatens to go afte...   \n",
              "4            194  The same GOP hailing Elon Musk as a free speec...   \n",
              "5             96  Elon Musk Reportedly Set to Launch a Tender Of...   \n",
              "6            114  Musk willing to invest up to $15 bln of own mo...   \n",
              "7            729  Shaun King, other liberals vow to leave Twitte...   \n",
              "8            445  We all know the only reason @ShaunKing came ba...   \n",
              "9            176  Hollywood reacts to Elon Musk's Twitter purcha...   \n",
              "10             0  this is the most recent take i've read of the ...   \n",
              "\n",
              "                                                 urls hashtags         score  \\\n",
              "0   https://nypost.com/2022/04/25/russia-appears-t...       []   8367.884314   \n",
              "1   https://www.independent.co.uk/tech/twitter-elo...       []  21082.308542   \n",
              "2   https://www.tmz.com/2022/04/25/elon-musk-new-o...       []  12482.107846   \n",
              "3   https://nypost.com/2022/04/19/ron-desantis-thr...       []    627.238672   \n",
              "4   https://www.washingtonpost.com/opinions/2022/0...       []    256.669748   \n",
              "5   https://watcher.guru/news/elon-musk-willing-to...       []  63054.861133   \n",
              "6   https://www.reuters.com/technology/elon-musk-i...       []  33079.688860   \n",
              "7   https://nypost.com/2022/04/26/shaun-king-other...       []    442.491238   \n",
              "8                           https://www.mypillow.com/       []    267.682060   \n",
              "9   https://www.foxnews.com/entertainment/hollywoo...       []    112.641824   \n",
              "10  https://maxread.substack.com/p/elon-musk-wont-...       []      3.086062   \n",
              "\n",
              "                                                title  docno  \\\n",
              "0   Russia appears to confuse 'The Sims' for SIM c...      1   \n",
              "1   Twitter: Elon Musk takeover announced with Tes...      2   \n",
              "2              Elon Musk Buys Twitter for $44 Billion      3   \n",
              "3   Ron DeSantis threatens Twitter board over Elon...      4   \n",
              "4   Opinion | Conservatives cheering on Elon Musk ...      5   \n",
              "5   Elon Musk Willing to Invest $15 Billion to Tak...      6   \n",
              "6   Musk tweets cryptic phrase days after Twitter ...      7   \n",
              "7   Shaun King, other liberals vow to leave Twitte...      8   \n",
              "8                                           Home Page      9   \n",
              "9   Hollywood reacts to Elon Musk's Twitter purcha...     10   \n",
              "10  Elon Musk won't fix Twitter (but he won't kill...     11   \n",
              "\n",
              "                                                 body  bm25_score  \n",
              "0   Primary Menu\\nSECTIONS\\nNew York Post\\nLOG IN\\...   10.905855  \n",
              "1   Contribute\\nSubscribe\\nLOGIN\\nTech\\nTwitter: E...    6.665566  \n",
              "2   Skip to main content\\nGOT A TIP?\\nTMZ\\nYou hav...   13.191287  \n",
              "3   Primary Menu\\nSECTIONS\\nNew York Post\\nLOG IN\\...   11.485096  \n",
              "4   Accessibility statement\\nSkip to main content\\...   19.478697  \n",
              "5   GENERAL CRYPTO\\n2 minute read\\nElon Musk Willi...   12.429563  \n",
              "6   Reuters home\\nWorld\\nBusiness\\nLegal\\nMarkets\\...   14.884846  \n",
              "7   Primary Menu\\nSECTIONS\\nNew York Post\\nLOG IN\\...   17.018772  \n",
              "8   Skip to Content\\nContact Us\\nSign In\\nSearch\\n...    2.419849  \n",
              "9   Fox News\\n2:46 PM\\nU.S.\\nPolitics\\nMedia\\nOpin...   12.765551  \n",
              "10  Read Max\\nSubscribe\\nSign in\\nElon Musk won't ...   22.035982  "
            ],
            "text/html": [
              "\n",
              "  <div id=\"df-424d852e-cd3e-49a2-ae9f-960e0e7cf3ac\">\n",
              "    <div class=\"colab-df-container\">\n",
              "      <div>\n",
              "<style scoped>\n",
              "    .dataframe tbody tr th:only-of-type {\n",
              "        vertical-align: middle;\n",
              "    }\n",
              "\n",
              "    .dataframe tbody tr th {\n",
              "        vertical-align: top;\n",
              "    }\n",
              "\n",
              "    .dataframe thead th {\n",
              "        text-align: right;\n",
              "    }\n",
              "</style>\n",
              "<table border=\"1\" class=\"dataframe\">\n",
              "  <thead>\n",
              "    <tr style=\"text-align: right;\">\n",
              "      <th></th>\n",
              "      <th>username</th>\n",
              "      <th>description</th>\n",
              "      <th>location</th>\n",
              "      <th>following</th>\n",
              "      <th>followers</th>\n",
              "      <th>totaltweets</th>\n",
              "      <th>retweetcount</th>\n",
              "      <th>text</th>\n",
              "      <th>urls</th>\n",
              "      <th>hashtags</th>\n",
              "      <th>score</th>\n",
              "      <th>title</th>\n",
              "      <th>docno</th>\n",
              "      <th>body</th>\n",
              "      <th>bm25_score</th>\n",
              "    </tr>\n",
              "  </thead>\n",
              "  <tbody>\n",
              "    <tr>\n",
              "      <th>0</th>\n",
              "      <td>tomgara</td>\n",
              "      <td>writing and editing things. now: @meta, former...</td>\n",
              "      <td>PGP: http://bit.ly/1Nja4jP</td>\n",
              "      <td>1732</td>\n",
              "      <td>63011</td>\n",
              "      <td>128293</td>\n",
              "      <td>13841</td>\n",
              "      <td>The Elon news is crowding out a significantly ...</td>\n",
              "      <td>https://nypost.com/2022/04/25/russia-appears-t...</td>\n",
              "      <td>[]</td>\n",
              "      <td>8367.884314</td>\n",
              "      <td>Russia appears to confuse 'The Sims' for SIM c...</td>\n",
              "      <td>1</td>\n",
              "      <td>Primary Menu\\nSECTIONS\\nNew York Post\\nLOG IN\\...</td>\n",
              "      <td>10.905855</td>\n",
              "    </tr>\n",
              "    <tr>\n",
              "      <th>1</th>\n",
              "      <td>Independent</td>\n",
              "      <td>News, comment and features from The Independen...</td>\n",
              "      <td>London, England</td>\n",
              "      <td>404</td>\n",
              "      <td>3695120</td>\n",
              "      <td>1257919</td>\n",
              "      <td>10797</td>\n",
              "      <td>🚨JUST IN 🚨\\nTwitter to accept Elon Musk’s $45 ...</td>\n",
              "      <td>https://www.independent.co.uk/tech/twitter-elo...</td>\n",
              "      <td>[]</td>\n",
              "      <td>21082.308542</td>\n",
              "      <td>Twitter: Elon Musk takeover announced with Tes...</td>\n",
              "      <td>2</td>\n",
              "      <td>Contribute\\nSubscribe\\nLOGIN\\nTech\\nTwitter: E...</td>\n",
              "      <td>6.665566</td>\n",
              "    </tr>\n",
              "    <tr>\n",
              "      <th>2</th>\n",
              "      <td>TMZ</td>\n",
              "      <td>Breaking entertainment news as it happens.</td>\n",
              "      <td>Los Angeles, CA</td>\n",
              "      <td>927</td>\n",
              "      <td>5896588</td>\n",
              "      <td>375913</td>\n",
              "      <td>3850</td>\n",
              "      <td>Elon Musk is Twitter's new daddy ... and some ...</td>\n",
              "      <td>https://www.tmz.com/2022/04/25/elon-musk-new-o...</td>\n",
              "      <td>[]</td>\n",
              "      <td>12482.107846</td>\n",
              "      <td>Elon Musk Buys Twitter for $44 Billion</td>\n",
              "      <td>3</td>\n",
              "      <td>Skip to main content\\nGOT A TIP?\\nTMZ\\nYou hav...</td>\n",
              "      <td>13.191287</td>\n",
              "    </tr>\n",
              "    <tr>\n",
              "      <th>3</th>\n",
              "      <td>nypost</td>\n",
              "      <td>Breaking news &amp; features from The New York Pos...</td>\n",
              "      <td>New York, NY</td>\n",
              "      <td>10997</td>\n",
              "      <td>2602188</td>\n",
              "      <td>467329</td>\n",
              "      <td>405</td>\n",
              "      <td>Florida Gov. Ron DeSantis threatens to go afte...</td>\n",
              "      <td>https://nypost.com/2022/04/19/ron-desantis-thr...</td>\n",
              "      <td>[]</td>\n",
              "      <td>627.238672</td>\n",
              "      <td>Ron DeSantis threatens Twitter board over Elon...</td>\n",
              "      <td>4</td>\n",
              "      <td>Primary Menu\\nSECTIONS\\nNew York Post\\nLOG IN\\...</td>\n",
              "      <td>11.485096</td>\n",
              "    </tr>\n",
              "    <tr>\n",
              "      <th>4</th>\n",
              "      <td>ThePlumLineGS</td>\n",
              "      <td>A blog about politics, politics, and politics</td>\n",
              "      <td></td>\n",
              "      <td>3766</td>\n",
              "      <td>317962</td>\n",
              "      <td>165109</td>\n",
              "      <td>194</td>\n",
              "      <td>The same GOP hailing Elon Musk as a free speec...</td>\n",
              "      <td>https://www.washingtonpost.com/opinions/2022/0...</td>\n",
              "      <td>[]</td>\n",
              "      <td>256.669748</td>\n",
              "      <td>Opinion | Conservatives cheering on Elon Musk ...</td>\n",
              "      <td>5</td>\n",
              "      <td>Accessibility statement\\nSkip to main content\\...</td>\n",
              "      <td>19.478697</td>\n",
              "    </tr>\n",
              "    <tr>\n",
              "      <th>5</th>\n",
              "      <td>WatcherGuru</td>\n",
              "      <td>Watcher Guru gives you unparalleled coverage o...</td>\n",
              "      <td>Texas, USA</td>\n",
              "      <td>20</td>\n",
              "      <td>826788</td>\n",
              "      <td>6509</td>\n",
              "      <td>96</td>\n",
              "      <td>Elon Musk Reportedly Set to Launch a Tender Of...</td>\n",
              "      <td>https://watcher.guru/news/elon-musk-willing-to...</td>\n",
              "      <td>[]</td>\n",
              "      <td>63054.861133</td>\n",
              "      <td>Elon Musk Willing to Invest $15 Billion to Tak...</td>\n",
              "      <td>6</td>\n",
              "      <td>GENERAL CRYPTO\\n2 minute read\\nElon Musk Willi...</td>\n",
              "      <td>12.429563</td>\n",
              "    </tr>\n",
              "    <tr>\n",
              "      <th>6</th>\n",
              "      <td>Reuters</td>\n",
              "      <td>Top and breaking news, pictures and videos fro...</td>\n",
              "      <td>Around the world</td>\n",
              "      <td>1215</td>\n",
              "      <td>25084073</td>\n",
              "      <td>847879</td>\n",
              "      <td>114</td>\n",
              "      <td>Musk willing to invest up to $15 bln of own mo...</td>\n",
              "      <td>https://www.reuters.com/technology/elon-musk-i...</td>\n",
              "      <td>[]</td>\n",
              "      <td>33079.688860</td>\n",
              "      <td>Musk tweets cryptic phrase days after Twitter ...</td>\n",
              "      <td>7</td>\n",
              "      <td>Reuters home\\nWorld\\nBusiness\\nLegal\\nMarkets\\...</td>\n",
              "      <td>14.884846</td>\n",
              "    </tr>\n",
              "    <tr>\n",
              "      <th>7</th>\n",
              "      <td>Acent80Anthony</td>\n",
              "      <td></td>\n",
              "      <td>United States</td>\n",
              "      <td>876</td>\n",
              "      <td>430</td>\n",
              "      <td>20180</td>\n",
              "      <td>729</td>\n",
              "      <td>Shaun King, other liberals vow to leave Twitte...</td>\n",
              "      <td>https://nypost.com/2022/04/26/shaun-king-other...</td>\n",
              "      <td>[]</td>\n",
              "      <td>442.491238</td>\n",
              "      <td>Shaun King, other liberals vow to leave Twitte...</td>\n",
              "      <td>8</td>\n",
              "      <td>Primary Menu\\nSECTIONS\\nNew York Post\\nLOG IN\\...</td>\n",
              "      <td>17.018772</td>\n",
              "    </tr>\n",
              "    <tr>\n",
              "      <th>8</th>\n",
              "      <td>RyanKnolton</td>\n",
              "      <td></td>\n",
              "      <td></td>\n",
              "      <td>59</td>\n",
              "      <td>2</td>\n",
              "      <td>4</td>\n",
              "      <td>445</td>\n",
              "      <td>We all know the only reason @ShaunKing came ba...</td>\n",
              "      <td>https://www.mypillow.com/</td>\n",
              "      <td>[]</td>\n",
              "      <td>267.682060</td>\n",
              "      <td>Home Page</td>\n",
              "      <td>9</td>\n",
              "      <td>Skip to Content\\nContact Us\\nSign In\\nSearch\\n...</td>\n",
              "      <td>2.419849</td>\n",
              "    </tr>\n",
              "    <tr>\n",
              "      <th>9</th>\n",
              "      <td>mcordeirobrasil</td>\n",
              "      <td>De direita com muito orgulho.</td>\n",
              "      <td>Brasil</td>\n",
              "      <td>990</td>\n",
              "      <td>1238</td>\n",
              "      <td>110007</td>\n",
              "      <td>176</td>\n",
              "      <td>Hollywood reacts to Elon Musk's Twitter purcha...</td>\n",
              "      <td>https://www.foxnews.com/entertainment/hollywoo...</td>\n",
              "      <td>[]</td>\n",
              "      <td>112.641824</td>\n",
              "      <td>Hollywood reacts to Elon Musk's Twitter purcha...</td>\n",
              "      <td>10</td>\n",
              "      <td>Fox News\\n2:46 PM\\nU.S.\\nPolitics\\nMedia\\nOpin...</td>\n",
              "      <td>12.765551</td>\n",
              "    </tr>\n",
              "    <tr>\n",
              "      <th>10</th>\n",
              "      <td>fauxrealist</td>\n",
              "      <td>news editor/photographer/anthropology student;...</td>\n",
              "      <td>LA</td>\n",
              "      <td>2003</td>\n",
              "      <td>431</td>\n",
              "      <td>551</td>\n",
              "      <td>0</td>\n",
              "      <td>this is the most recent take i've read of the ...</td>\n",
              "      <td>https://maxread.substack.com/p/elon-musk-wont-...</td>\n",
              "      <td>[]</td>\n",
              "      <td>3.086062</td>\n",
              "      <td>Elon Musk won't fix Twitter (but he won't kill...</td>\n",
              "      <td>11</td>\n",
              "      <td>Read Max\\nSubscribe\\nSign in\\nElon Musk won't ...</td>\n",
              "      <td>22.035982</td>\n",
              "    </tr>\n",
              "  </tbody>\n",
              "</table>\n",
              "</div>\n",
              "      <button class=\"colab-df-convert\" onclick=\"convertToInteractive('df-424d852e-cd3e-49a2-ae9f-960e0e7cf3ac')\"\n",
              "              title=\"Convert this dataframe to an interactive table.\"\n",
              "              style=\"display:none;\">\n",
              "        \n",
              "  <svg xmlns=\"http://www.w3.org/2000/svg\" height=\"24px\"viewBox=\"0 0 24 24\"\n",
              "       width=\"24px\">\n",
              "    <path d=\"M0 0h24v24H0V0z\" fill=\"none\"/>\n",
              "    <path d=\"M18.56 5.44l.94 2.06.94-2.06 2.06-.94-2.06-.94-.94-2.06-.94 2.06-2.06.94zm-11 1L8.5 8.5l.94-2.06 2.06-.94-2.06-.94L8.5 2.5l-.94 2.06-2.06.94zm10 10l.94 2.06.94-2.06 2.06-.94-2.06-.94-.94-2.06-.94 2.06-2.06.94z\"/><path d=\"M17.41 7.96l-1.37-1.37c-.4-.4-.92-.59-1.43-.59-.52 0-1.04.2-1.43.59L10.3 9.45l-7.72 7.72c-.78.78-.78 2.05 0 2.83L4 21.41c.39.39.9.59 1.41.59.51 0 1.02-.2 1.41-.59l7.78-7.78 2.81-2.81c.8-.78.8-2.07 0-2.86zM5.41 20L4 18.59l7.72-7.72 1.47 1.35L5.41 20z\"/>\n",
              "  </svg>\n",
              "      </button>\n",
              "      \n",
              "  <style>\n",
              "    .colab-df-container {\n",
              "      display:flex;\n",
              "      flex-wrap:wrap;\n",
              "      gap: 12px;\n",
              "    }\n",
              "\n",
              "    .colab-df-convert {\n",
              "      background-color: #E8F0FE;\n",
              "      border: none;\n",
              "      border-radius: 50%;\n",
              "      cursor: pointer;\n",
              "      display: none;\n",
              "      fill: #1967D2;\n",
              "      height: 32px;\n",
              "      padding: 0 0 0 0;\n",
              "      width: 32px;\n",
              "    }\n",
              "\n",
              "    .colab-df-convert:hover {\n",
              "      background-color: #E2EBFA;\n",
              "      box-shadow: 0px 1px 2px rgba(60, 64, 67, 0.3), 0px 1px 3px 1px rgba(60, 64, 67, 0.15);\n",
              "      fill: #174EA6;\n",
              "    }\n",
              "\n",
              "    [theme=dark] .colab-df-convert {\n",
              "      background-color: #3B4455;\n",
              "      fill: #D2E3FC;\n",
              "    }\n",
              "\n",
              "    [theme=dark] .colab-df-convert:hover {\n",
              "      background-color: #434B5C;\n",
              "      box-shadow: 0px 1px 3px 1px rgba(0, 0, 0, 0.15);\n",
              "      filter: drop-shadow(0px 1px 2px rgba(0, 0, 0, 0.3));\n",
              "      fill: #FFFFFF;\n",
              "    }\n",
              "  </style>\n",
              "\n",
              "      <script>\n",
              "        const buttonEl =\n",
              "          document.querySelector('#df-424d852e-cd3e-49a2-ae9f-960e0e7cf3ac button.colab-df-convert');\n",
              "        buttonEl.style.display =\n",
              "          google.colab.kernel.accessAllowed ? 'block' : 'none';\n",
              "\n",
              "        async function convertToInteractive(key) {\n",
              "          const element = document.querySelector('#df-424d852e-cd3e-49a2-ae9f-960e0e7cf3ac');\n",
              "          const dataTable =\n",
              "            await google.colab.kernel.invokeFunction('convertToInteractive',\n",
              "                                                     [key], {});\n",
              "          if (!dataTable) return;\n",
              "\n",
              "          const docLinkHtml = 'Like what you see? Visit the ' +\n",
              "            '<a target=\"_blank\" href=https://colab.research.google.com/notebooks/data_table.ipynb>data table notebook</a>'\n",
              "            + ' to learn more about interactive tables.';\n",
              "          element.innerHTML = '';\n",
              "          dataTable['output_type'] = 'display_data';\n",
              "          await google.colab.output.renderOutput(dataTable, element);\n",
              "          const docLink = document.createElement('div');\n",
              "          docLink.innerHTML = docLinkHtml;\n",
              "          element.appendChild(docLink);\n",
              "        }\n",
              "      </script>\n",
              "    </div>\n",
              "  </div>\n",
              "  "
            ]
          },
          "metadata": {},
          "execution_count": 26
        }
      ]
    },
    {
      "cell_type": "code",
      "source": [
        "df_final['docno'] = df_final['docno'].astype(str)"
      ],
      "metadata": {
        "id": "0LiorsrbzeiW"
      },
      "execution_count": null,
      "outputs": []
    },
    {
      "cell_type": "code",
      "source": [
        "indexer = pt.DFIndexer(\"./index_docs\", overwrite=True)\n",
        "index_ref = indexer.index(df_final[\"body\"], df_final[\"docno\"])\n",
        "index_ref.toString()"
      ],
      "metadata": {
        "colab": {
          "base_uri": "https://localhost:8080/",
          "height": 35
        },
        "id": "8YcvghxMx3at",
        "outputId": "087f19b2-f36c-456c-c982-970b1170d1cb"
      },
      "execution_count": null,
      "outputs": [
        {
          "output_type": "execute_result",
          "data": {
            "text/plain": [
              "'./index_docs/data.properties'"
            ],
            "application/vnd.google.colaboratory.intrinsic+json": {
              "type": "string"
            }
          },
          "metadata": {},
          "execution_count": 28
        }
      ]
    },
    {
      "cell_type": "code",
      "source": [
        "index = pt.IndexFactory.of(index_ref)\n",
        "\n",
        "# check index type\n",
        "type(index)"
      ],
      "metadata": {
        "colab": {
          "base_uri": "https://localhost:8080/"
        },
        "id": "u3jQ9lpNz4pS",
        "outputId": "a508ca36-8afb-47f9-e0b8-1088ed2e2028"
      },
      "execution_count": null,
      "outputs": [
        {
          "output_type": "execute_result",
          "data": {
            "text/plain": [
              "jnius.reflect.org.terrier.structures.Index"
            ]
          },
          "metadata": {},
          "execution_count": 29
        }
      ]
    },
    {
      "cell_type": "code",
      "source": [
        "str_tokens = \" \".join(token_list)\n",
        "str_tokens"
      ],
      "metadata": {
        "colab": {
          "base_uri": "https://localhost:8080/",
          "height": 71
        },
        "id": "rfTpC8Ts0I26",
        "outputId": "d2307664-ae38-4d1e-f69d-05e547c6b37d"
      },
      "execution_count": null,
      "outputs": [
        {
          "output_type": "execute_result",
          "data": {
            "text/plain": [
              "'tri yet gave social sad hunger block free peopl speech america void washington coincid end instagram get so jeff two violat whatsapp post own we when see could put musk control amount publicli zuckerberg disparag media take attack world commit billion purpos feder histor money fyi high platform oligarchi today elon year much un agreement he last deal bezo unravel moment favorit gener american tax well african unclear facebook twitter one left claus rank vital mani whi first larg multibillionair employe it win buyout paid commun'"
            ],
            "application/vnd.google.colaboratory.intrinsic+json": {
              "type": "string"
            }
          },
          "metadata": {},
          "execution_count": 30
        }
      ]
    },
    {
      "cell_type": "code",
      "source": [
        "# br = pt.BatchRetrieve(index, wmodel=\"BM25\")\n",
        "# br.search(str_tokens)"
      ],
      "metadata": {
        "id": "vvkSPobx4ycf"
      },
      "execution_count": null,
      "outputs": []
    },
    {
      "cell_type": "markdown",
      "source": [
        "**TF_IDF**"
      ],
      "metadata": {
        "id": "zBWrCBctpwU-"
      }
    },
    {
      "cell_type": "code",
      "source": [
        "br = pt.BatchRetrieve(index, wmodel=\"TF_IDF\")\n",
        "tf_idf = br.search(str_tokens)\n",
        "tf_idf"
      ],
      "metadata": {
        "id": "JBjDgvZj2l21",
        "colab": {
          "base_uri": "https://localhost:8080/",
          "height": 394
        },
        "outputId": "f0a30391-8759-4c90-ffbb-ee6dd246f58f"
      },
      "execution_count": null,
      "outputs": [
        {
          "output_type": "execute_result",
          "data": {
            "text/plain": [
              "   qid  docid docno  rank      score  \\\n",
              "0    1     10    11     0  31.746067   \n",
              "1    1      7     8     1  30.976660   \n",
              "2    1      4     5     2  28.033029   \n",
              "3    1      6     7     3  27.285904   \n",
              "4    1      9    10     4  24.768462   \n",
              "5    1      2     3     5  23.473612   \n",
              "6    1      5     6     6  19.912203   \n",
              "7    1      3     4     7  18.663669   \n",
              "8    1      0     1     8  17.692808   \n",
              "9    1      1     2     9  11.915289   \n",
              "10   1      8     9    10   2.660376   \n",
              "\n",
              "                                                query  \n",
              "0   tri yet gave social sad hunger block free peop...  \n",
              "1   tri yet gave social sad hunger block free peop...  \n",
              "2   tri yet gave social sad hunger block free peop...  \n",
              "3   tri yet gave social sad hunger block free peop...  \n",
              "4   tri yet gave social sad hunger block free peop...  \n",
              "5   tri yet gave social sad hunger block free peop...  \n",
              "6   tri yet gave social sad hunger block free peop...  \n",
              "7   tri yet gave social sad hunger block free peop...  \n",
              "8   tri yet gave social sad hunger block free peop...  \n",
              "9   tri yet gave social sad hunger block free peop...  \n",
              "10  tri yet gave social sad hunger block free peop...  "
            ],
            "text/html": [
              "\n",
              "  <div id=\"df-7938ad95-4e9d-40b0-8569-f732c79d939e\">\n",
              "    <div class=\"colab-df-container\">\n",
              "      <div>\n",
              "<style scoped>\n",
              "    .dataframe tbody tr th:only-of-type {\n",
              "        vertical-align: middle;\n",
              "    }\n",
              "\n",
              "    .dataframe tbody tr th {\n",
              "        vertical-align: top;\n",
              "    }\n",
              "\n",
              "    .dataframe thead th {\n",
              "        text-align: right;\n",
              "    }\n",
              "</style>\n",
              "<table border=\"1\" class=\"dataframe\">\n",
              "  <thead>\n",
              "    <tr style=\"text-align: right;\">\n",
              "      <th></th>\n",
              "      <th>qid</th>\n",
              "      <th>docid</th>\n",
              "      <th>docno</th>\n",
              "      <th>rank</th>\n",
              "      <th>score</th>\n",
              "      <th>query</th>\n",
              "    </tr>\n",
              "  </thead>\n",
              "  <tbody>\n",
              "    <tr>\n",
              "      <th>0</th>\n",
              "      <td>1</td>\n",
              "      <td>10</td>\n",
              "      <td>11</td>\n",
              "      <td>0</td>\n",
              "      <td>31.746067</td>\n",
              "      <td>tri yet gave social sad hunger block free peop...</td>\n",
              "    </tr>\n",
              "    <tr>\n",
              "      <th>1</th>\n",
              "      <td>1</td>\n",
              "      <td>7</td>\n",
              "      <td>8</td>\n",
              "      <td>1</td>\n",
              "      <td>30.976660</td>\n",
              "      <td>tri yet gave social sad hunger block free peop...</td>\n",
              "    </tr>\n",
              "    <tr>\n",
              "      <th>2</th>\n",
              "      <td>1</td>\n",
              "      <td>4</td>\n",
              "      <td>5</td>\n",
              "      <td>2</td>\n",
              "      <td>28.033029</td>\n",
              "      <td>tri yet gave social sad hunger block free peop...</td>\n",
              "    </tr>\n",
              "    <tr>\n",
              "      <th>3</th>\n",
              "      <td>1</td>\n",
              "      <td>6</td>\n",
              "      <td>7</td>\n",
              "      <td>3</td>\n",
              "      <td>27.285904</td>\n",
              "      <td>tri yet gave social sad hunger block free peop...</td>\n",
              "    </tr>\n",
              "    <tr>\n",
              "      <th>4</th>\n",
              "      <td>1</td>\n",
              "      <td>9</td>\n",
              "      <td>10</td>\n",
              "      <td>4</td>\n",
              "      <td>24.768462</td>\n",
              "      <td>tri yet gave social sad hunger block free peop...</td>\n",
              "    </tr>\n",
              "    <tr>\n",
              "      <th>5</th>\n",
              "      <td>1</td>\n",
              "      <td>2</td>\n",
              "      <td>3</td>\n",
              "      <td>5</td>\n",
              "      <td>23.473612</td>\n",
              "      <td>tri yet gave social sad hunger block free peop...</td>\n",
              "    </tr>\n",
              "    <tr>\n",
              "      <th>6</th>\n",
              "      <td>1</td>\n",
              "      <td>5</td>\n",
              "      <td>6</td>\n",
              "      <td>6</td>\n",
              "      <td>19.912203</td>\n",
              "      <td>tri yet gave social sad hunger block free peop...</td>\n",
              "    </tr>\n",
              "    <tr>\n",
              "      <th>7</th>\n",
              "      <td>1</td>\n",
              "      <td>3</td>\n",
              "      <td>4</td>\n",
              "      <td>7</td>\n",
              "      <td>18.663669</td>\n",
              "      <td>tri yet gave social sad hunger block free peop...</td>\n",
              "    </tr>\n",
              "    <tr>\n",
              "      <th>8</th>\n",
              "      <td>1</td>\n",
              "      <td>0</td>\n",
              "      <td>1</td>\n",
              "      <td>8</td>\n",
              "      <td>17.692808</td>\n",
              "      <td>tri yet gave social sad hunger block free peop...</td>\n",
              "    </tr>\n",
              "    <tr>\n",
              "      <th>9</th>\n",
              "      <td>1</td>\n",
              "      <td>1</td>\n",
              "      <td>2</td>\n",
              "      <td>9</td>\n",
              "      <td>11.915289</td>\n",
              "      <td>tri yet gave social sad hunger block free peop...</td>\n",
              "    </tr>\n",
              "    <tr>\n",
              "      <th>10</th>\n",
              "      <td>1</td>\n",
              "      <td>8</td>\n",
              "      <td>9</td>\n",
              "      <td>10</td>\n",
              "      <td>2.660376</td>\n",
              "      <td>tri yet gave social sad hunger block free peop...</td>\n",
              "    </tr>\n",
              "  </tbody>\n",
              "</table>\n",
              "</div>\n",
              "      <button class=\"colab-df-convert\" onclick=\"convertToInteractive('df-7938ad95-4e9d-40b0-8569-f732c79d939e')\"\n",
              "              title=\"Convert this dataframe to an interactive table.\"\n",
              "              style=\"display:none;\">\n",
              "        \n",
              "  <svg xmlns=\"http://www.w3.org/2000/svg\" height=\"24px\"viewBox=\"0 0 24 24\"\n",
              "       width=\"24px\">\n",
              "    <path d=\"M0 0h24v24H0V0z\" fill=\"none\"/>\n",
              "    <path d=\"M18.56 5.44l.94 2.06.94-2.06 2.06-.94-2.06-.94-.94-2.06-.94 2.06-2.06.94zm-11 1L8.5 8.5l.94-2.06 2.06-.94-2.06-.94L8.5 2.5l-.94 2.06-2.06.94zm10 10l.94 2.06.94-2.06 2.06-.94-2.06-.94-.94-2.06-.94 2.06-2.06.94z\"/><path d=\"M17.41 7.96l-1.37-1.37c-.4-.4-.92-.59-1.43-.59-.52 0-1.04.2-1.43.59L10.3 9.45l-7.72 7.72c-.78.78-.78 2.05 0 2.83L4 21.41c.39.39.9.59 1.41.59.51 0 1.02-.2 1.41-.59l7.78-7.78 2.81-2.81c.8-.78.8-2.07 0-2.86zM5.41 20L4 18.59l7.72-7.72 1.47 1.35L5.41 20z\"/>\n",
              "  </svg>\n",
              "      </button>\n",
              "      \n",
              "  <style>\n",
              "    .colab-df-container {\n",
              "      display:flex;\n",
              "      flex-wrap:wrap;\n",
              "      gap: 12px;\n",
              "    }\n",
              "\n",
              "    .colab-df-convert {\n",
              "      background-color: #E8F0FE;\n",
              "      border: none;\n",
              "      border-radius: 50%;\n",
              "      cursor: pointer;\n",
              "      display: none;\n",
              "      fill: #1967D2;\n",
              "      height: 32px;\n",
              "      padding: 0 0 0 0;\n",
              "      width: 32px;\n",
              "    }\n",
              "\n",
              "    .colab-df-convert:hover {\n",
              "      background-color: #E2EBFA;\n",
              "      box-shadow: 0px 1px 2px rgba(60, 64, 67, 0.3), 0px 1px 3px 1px rgba(60, 64, 67, 0.15);\n",
              "      fill: #174EA6;\n",
              "    }\n",
              "\n",
              "    [theme=dark] .colab-df-convert {\n",
              "      background-color: #3B4455;\n",
              "      fill: #D2E3FC;\n",
              "    }\n",
              "\n",
              "    [theme=dark] .colab-df-convert:hover {\n",
              "      background-color: #434B5C;\n",
              "      box-shadow: 0px 1px 3px 1px rgba(0, 0, 0, 0.15);\n",
              "      filter: drop-shadow(0px 1px 2px rgba(0, 0, 0, 0.3));\n",
              "      fill: #FFFFFF;\n",
              "    }\n",
              "  </style>\n",
              "\n",
              "      <script>\n",
              "        const buttonEl =\n",
              "          document.querySelector('#df-7938ad95-4e9d-40b0-8569-f732c79d939e button.colab-df-convert');\n",
              "        buttonEl.style.display =\n",
              "          google.colab.kernel.accessAllowed ? 'block' : 'none';\n",
              "\n",
              "        async function convertToInteractive(key) {\n",
              "          const element = document.querySelector('#df-7938ad95-4e9d-40b0-8569-f732c79d939e');\n",
              "          const dataTable =\n",
              "            await google.colab.kernel.invokeFunction('convertToInteractive',\n",
              "                                                     [key], {});\n",
              "          if (!dataTable) return;\n",
              "\n",
              "          const docLinkHtml = 'Like what you see? Visit the ' +\n",
              "            '<a target=\"_blank\" href=https://colab.research.google.com/notebooks/data_table.ipynb>data table notebook</a>'\n",
              "            + ' to learn more about interactive tables.';\n",
              "          element.innerHTML = '';\n",
              "          dataTable['output_type'] = 'display_data';\n",
              "          await google.colab.output.renderOutput(dataTable, element);\n",
              "          const docLink = document.createElement('div');\n",
              "          docLink.innerHTML = docLinkHtml;\n",
              "          element.appendChild(docLink);\n",
              "        }\n",
              "      </script>\n",
              "    </div>\n",
              "  </div>\n",
              "  "
            ]
          },
          "metadata": {},
          "execution_count": 32
        }
      ]
    },
    {
      "cell_type": "markdown",
      "source": [
        "**PL2**"
      ],
      "metadata": {
        "id": "mA8uMzt-qveW"
      }
    },
    {
      "cell_type": "code",
      "source": [
        "br = pt.BatchRetrieve(index, wmodel=\"PL2\")\n",
        "pl2 = br.search(str_tokens)\n",
        "pl2"
      ],
      "metadata": {
        "id": "VgD_zEEvkbNS",
        "colab": {
          "base_uri": "https://localhost:8080/",
          "height": 394
        },
        "outputId": "6a618d0b-d412-47f3-e6ca-c1f3d861f69f"
      },
      "execution_count": null,
      "outputs": [
        {
          "output_type": "execute_result",
          "data": {
            "text/plain": [
              "   qid  docid docno  rank      score  \\\n",
              "0    1      6     7     0  22.005433   \n",
              "1    1     10    11     1  20.987679   \n",
              "2    1      4     5     2  20.922308   \n",
              "3    1      7     8     3  20.547398   \n",
              "4    1      2     3     4  18.044606   \n",
              "5    1      9    10     5  17.414865   \n",
              "6    1      0     1     6  15.168899   \n",
              "7    1      5     6     7  14.367371   \n",
              "8    1      3     4     8  13.795998   \n",
              "9    1      1     2     9  10.482458   \n",
              "10   1      8     9    10   2.832919   \n",
              "\n",
              "                                                query  \n",
              "0   tri yet gave social sad hunger block free peop...  \n",
              "1   tri yet gave social sad hunger block free peop...  \n",
              "2   tri yet gave social sad hunger block free peop...  \n",
              "3   tri yet gave social sad hunger block free peop...  \n",
              "4   tri yet gave social sad hunger block free peop...  \n",
              "5   tri yet gave social sad hunger block free peop...  \n",
              "6   tri yet gave social sad hunger block free peop...  \n",
              "7   tri yet gave social sad hunger block free peop...  \n",
              "8   tri yet gave social sad hunger block free peop...  \n",
              "9   tri yet gave social sad hunger block free peop...  \n",
              "10  tri yet gave social sad hunger block free peop...  "
            ],
            "text/html": [
              "\n",
              "  <div id=\"df-b7c988d6-cca9-4fd3-8958-f56383d0fc0f\">\n",
              "    <div class=\"colab-df-container\">\n",
              "      <div>\n",
              "<style scoped>\n",
              "    .dataframe tbody tr th:only-of-type {\n",
              "        vertical-align: middle;\n",
              "    }\n",
              "\n",
              "    .dataframe tbody tr th {\n",
              "        vertical-align: top;\n",
              "    }\n",
              "\n",
              "    .dataframe thead th {\n",
              "        text-align: right;\n",
              "    }\n",
              "</style>\n",
              "<table border=\"1\" class=\"dataframe\">\n",
              "  <thead>\n",
              "    <tr style=\"text-align: right;\">\n",
              "      <th></th>\n",
              "      <th>qid</th>\n",
              "      <th>docid</th>\n",
              "      <th>docno</th>\n",
              "      <th>rank</th>\n",
              "      <th>score</th>\n",
              "      <th>query</th>\n",
              "    </tr>\n",
              "  </thead>\n",
              "  <tbody>\n",
              "    <tr>\n",
              "      <th>0</th>\n",
              "      <td>1</td>\n",
              "      <td>6</td>\n",
              "      <td>7</td>\n",
              "      <td>0</td>\n",
              "      <td>22.005433</td>\n",
              "      <td>tri yet gave social sad hunger block free peop...</td>\n",
              "    </tr>\n",
              "    <tr>\n",
              "      <th>1</th>\n",
              "      <td>1</td>\n",
              "      <td>10</td>\n",
              "      <td>11</td>\n",
              "      <td>1</td>\n",
              "      <td>20.987679</td>\n",
              "      <td>tri yet gave social sad hunger block free peop...</td>\n",
              "    </tr>\n",
              "    <tr>\n",
              "      <th>2</th>\n",
              "      <td>1</td>\n",
              "      <td>4</td>\n",
              "      <td>5</td>\n",
              "      <td>2</td>\n",
              "      <td>20.922308</td>\n",
              "      <td>tri yet gave social sad hunger block free peop...</td>\n",
              "    </tr>\n",
              "    <tr>\n",
              "      <th>3</th>\n",
              "      <td>1</td>\n",
              "      <td>7</td>\n",
              "      <td>8</td>\n",
              "      <td>3</td>\n",
              "      <td>20.547398</td>\n",
              "      <td>tri yet gave social sad hunger block free peop...</td>\n",
              "    </tr>\n",
              "    <tr>\n",
              "      <th>4</th>\n",
              "      <td>1</td>\n",
              "      <td>2</td>\n",
              "      <td>3</td>\n",
              "      <td>4</td>\n",
              "      <td>18.044606</td>\n",
              "      <td>tri yet gave social sad hunger block free peop...</td>\n",
              "    </tr>\n",
              "    <tr>\n",
              "      <th>5</th>\n",
              "      <td>1</td>\n",
              "      <td>9</td>\n",
              "      <td>10</td>\n",
              "      <td>5</td>\n",
              "      <td>17.414865</td>\n",
              "      <td>tri yet gave social sad hunger block free peop...</td>\n",
              "    </tr>\n",
              "    <tr>\n",
              "      <th>6</th>\n",
              "      <td>1</td>\n",
              "      <td>0</td>\n",
              "      <td>1</td>\n",
              "      <td>6</td>\n",
              "      <td>15.168899</td>\n",
              "      <td>tri yet gave social sad hunger block free peop...</td>\n",
              "    </tr>\n",
              "    <tr>\n",
              "      <th>7</th>\n",
              "      <td>1</td>\n",
              "      <td>5</td>\n",
              "      <td>6</td>\n",
              "      <td>7</td>\n",
              "      <td>14.367371</td>\n",
              "      <td>tri yet gave social sad hunger block free peop...</td>\n",
              "    </tr>\n",
              "    <tr>\n",
              "      <th>8</th>\n",
              "      <td>1</td>\n",
              "      <td>3</td>\n",
              "      <td>4</td>\n",
              "      <td>8</td>\n",
              "      <td>13.795998</td>\n",
              "      <td>tri yet gave social sad hunger block free peop...</td>\n",
              "    </tr>\n",
              "    <tr>\n",
              "      <th>9</th>\n",
              "      <td>1</td>\n",
              "      <td>1</td>\n",
              "      <td>2</td>\n",
              "      <td>9</td>\n",
              "      <td>10.482458</td>\n",
              "      <td>tri yet gave social sad hunger block free peop...</td>\n",
              "    </tr>\n",
              "    <tr>\n",
              "      <th>10</th>\n",
              "      <td>1</td>\n",
              "      <td>8</td>\n",
              "      <td>9</td>\n",
              "      <td>10</td>\n",
              "      <td>2.832919</td>\n",
              "      <td>tri yet gave social sad hunger block free peop...</td>\n",
              "    </tr>\n",
              "  </tbody>\n",
              "</table>\n",
              "</div>\n",
              "      <button class=\"colab-df-convert\" onclick=\"convertToInteractive('df-b7c988d6-cca9-4fd3-8958-f56383d0fc0f')\"\n",
              "              title=\"Convert this dataframe to an interactive table.\"\n",
              "              style=\"display:none;\">\n",
              "        \n",
              "  <svg xmlns=\"http://www.w3.org/2000/svg\" height=\"24px\"viewBox=\"0 0 24 24\"\n",
              "       width=\"24px\">\n",
              "    <path d=\"M0 0h24v24H0V0z\" fill=\"none\"/>\n",
              "    <path d=\"M18.56 5.44l.94 2.06.94-2.06 2.06-.94-2.06-.94-.94-2.06-.94 2.06-2.06.94zm-11 1L8.5 8.5l.94-2.06 2.06-.94-2.06-.94L8.5 2.5l-.94 2.06-2.06.94zm10 10l.94 2.06.94-2.06 2.06-.94-2.06-.94-.94-2.06-.94 2.06-2.06.94z\"/><path d=\"M17.41 7.96l-1.37-1.37c-.4-.4-.92-.59-1.43-.59-.52 0-1.04.2-1.43.59L10.3 9.45l-7.72 7.72c-.78.78-.78 2.05 0 2.83L4 21.41c.39.39.9.59 1.41.59.51 0 1.02-.2 1.41-.59l7.78-7.78 2.81-2.81c.8-.78.8-2.07 0-2.86zM5.41 20L4 18.59l7.72-7.72 1.47 1.35L5.41 20z\"/>\n",
              "  </svg>\n",
              "      </button>\n",
              "      \n",
              "  <style>\n",
              "    .colab-df-container {\n",
              "      display:flex;\n",
              "      flex-wrap:wrap;\n",
              "      gap: 12px;\n",
              "    }\n",
              "\n",
              "    .colab-df-convert {\n",
              "      background-color: #E8F0FE;\n",
              "      border: none;\n",
              "      border-radius: 50%;\n",
              "      cursor: pointer;\n",
              "      display: none;\n",
              "      fill: #1967D2;\n",
              "      height: 32px;\n",
              "      padding: 0 0 0 0;\n",
              "      width: 32px;\n",
              "    }\n",
              "\n",
              "    .colab-df-convert:hover {\n",
              "      background-color: #E2EBFA;\n",
              "      box-shadow: 0px 1px 2px rgba(60, 64, 67, 0.3), 0px 1px 3px 1px rgba(60, 64, 67, 0.15);\n",
              "      fill: #174EA6;\n",
              "    }\n",
              "\n",
              "    [theme=dark] .colab-df-convert {\n",
              "      background-color: #3B4455;\n",
              "      fill: #D2E3FC;\n",
              "    }\n",
              "\n",
              "    [theme=dark] .colab-df-convert:hover {\n",
              "      background-color: #434B5C;\n",
              "      box-shadow: 0px 1px 3px 1px rgba(0, 0, 0, 0.15);\n",
              "      filter: drop-shadow(0px 1px 2px rgba(0, 0, 0, 0.3));\n",
              "      fill: #FFFFFF;\n",
              "    }\n",
              "  </style>\n",
              "\n",
              "      <script>\n",
              "        const buttonEl =\n",
              "          document.querySelector('#df-b7c988d6-cca9-4fd3-8958-f56383d0fc0f button.colab-df-convert');\n",
              "        buttonEl.style.display =\n",
              "          google.colab.kernel.accessAllowed ? 'block' : 'none';\n",
              "\n",
              "        async function convertToInteractive(key) {\n",
              "          const element = document.querySelector('#df-b7c988d6-cca9-4fd3-8958-f56383d0fc0f');\n",
              "          const dataTable =\n",
              "            await google.colab.kernel.invokeFunction('convertToInteractive',\n",
              "                                                     [key], {});\n",
              "          if (!dataTable) return;\n",
              "\n",
              "          const docLinkHtml = 'Like what you see? Visit the ' +\n",
              "            '<a target=\"_blank\" href=https://colab.research.google.com/notebooks/data_table.ipynb>data table notebook</a>'\n",
              "            + ' to learn more about interactive tables.';\n",
              "          element.innerHTML = '';\n",
              "          dataTable['output_type'] = 'display_data';\n",
              "          await google.colab.output.renderOutput(dataTable, element);\n",
              "          const docLink = document.createElement('div');\n",
              "          docLink.innerHTML = docLinkHtml;\n",
              "          element.appendChild(docLink);\n",
              "        }\n",
              "      </script>\n",
              "    </div>\n",
              "  </div>\n",
              "  "
            ]
          },
          "metadata": {},
          "execution_count": 33
        }
      ]
    },
    {
      "cell_type": "markdown",
      "source": [
        "**InL2**"
      ],
      "metadata": {
        "id": "8skSwZrWqznA"
      }
    },
    {
      "cell_type": "code",
      "source": [
        "br = pt.BatchRetrieve(index, wmodel=\"InL2\")\n",
        "inl2 = br.search(str_tokens)\n",
        "inl2"
      ],
      "metadata": {
        "id": "tP11Gv7RklTQ",
        "colab": {
          "base_uri": "https://localhost:8080/",
          "height": 394
        },
        "outputId": "da5e0df4-972d-494d-f58c-735a51bc2044"
      },
      "execution_count": null,
      "outputs": [
        {
          "output_type": "execute_result",
          "data": {
            "text/plain": [
              "   qid  docid docno  rank      score  \\\n",
              "0    1     10    11     0  17.058304   \n",
              "1    1      7     8     1  16.035904   \n",
              "2    1      4     5     2  15.749293   \n",
              "3    1      6     7     3  14.083544   \n",
              "4    1      9    10     4  13.013637   \n",
              "5    1      2     3     5  12.562300   \n",
              "6    1      0     1     6  10.312937   \n",
              "7    1      5     6     7   9.748248   \n",
              "8    1      3     4     8   9.390903   \n",
              "9    1      1     2     9   4.174227   \n",
              "10   1      8     9    10   1.313054   \n",
              "\n",
              "                                                query  \n",
              "0   tri yet gave social sad hunger block free peop...  \n",
              "1   tri yet gave social sad hunger block free peop...  \n",
              "2   tri yet gave social sad hunger block free peop...  \n",
              "3   tri yet gave social sad hunger block free peop...  \n",
              "4   tri yet gave social sad hunger block free peop...  \n",
              "5   tri yet gave social sad hunger block free peop...  \n",
              "6   tri yet gave social sad hunger block free peop...  \n",
              "7   tri yet gave social sad hunger block free peop...  \n",
              "8   tri yet gave social sad hunger block free peop...  \n",
              "9   tri yet gave social sad hunger block free peop...  \n",
              "10  tri yet gave social sad hunger block free peop...  "
            ],
            "text/html": [
              "\n",
              "  <div id=\"df-81e10118-33c6-4477-bc20-24b342717bd3\">\n",
              "    <div class=\"colab-df-container\">\n",
              "      <div>\n",
              "<style scoped>\n",
              "    .dataframe tbody tr th:only-of-type {\n",
              "        vertical-align: middle;\n",
              "    }\n",
              "\n",
              "    .dataframe tbody tr th {\n",
              "        vertical-align: top;\n",
              "    }\n",
              "\n",
              "    .dataframe thead th {\n",
              "        text-align: right;\n",
              "    }\n",
              "</style>\n",
              "<table border=\"1\" class=\"dataframe\">\n",
              "  <thead>\n",
              "    <tr style=\"text-align: right;\">\n",
              "      <th></th>\n",
              "      <th>qid</th>\n",
              "      <th>docid</th>\n",
              "      <th>docno</th>\n",
              "      <th>rank</th>\n",
              "      <th>score</th>\n",
              "      <th>query</th>\n",
              "    </tr>\n",
              "  </thead>\n",
              "  <tbody>\n",
              "    <tr>\n",
              "      <th>0</th>\n",
              "      <td>1</td>\n",
              "      <td>10</td>\n",
              "      <td>11</td>\n",
              "      <td>0</td>\n",
              "      <td>17.058304</td>\n",
              "      <td>tri yet gave social sad hunger block free peop...</td>\n",
              "    </tr>\n",
              "    <tr>\n",
              "      <th>1</th>\n",
              "      <td>1</td>\n",
              "      <td>7</td>\n",
              "      <td>8</td>\n",
              "      <td>1</td>\n",
              "      <td>16.035904</td>\n",
              "      <td>tri yet gave social sad hunger block free peop...</td>\n",
              "    </tr>\n",
              "    <tr>\n",
              "      <th>2</th>\n",
              "      <td>1</td>\n",
              "      <td>4</td>\n",
              "      <td>5</td>\n",
              "      <td>2</td>\n",
              "      <td>15.749293</td>\n",
              "      <td>tri yet gave social sad hunger block free peop...</td>\n",
              "    </tr>\n",
              "    <tr>\n",
              "      <th>3</th>\n",
              "      <td>1</td>\n",
              "      <td>6</td>\n",
              "      <td>7</td>\n",
              "      <td>3</td>\n",
              "      <td>14.083544</td>\n",
              "      <td>tri yet gave social sad hunger block free peop...</td>\n",
              "    </tr>\n",
              "    <tr>\n",
              "      <th>4</th>\n",
              "      <td>1</td>\n",
              "      <td>9</td>\n",
              "      <td>10</td>\n",
              "      <td>4</td>\n",
              "      <td>13.013637</td>\n",
              "      <td>tri yet gave social sad hunger block free peop...</td>\n",
              "    </tr>\n",
              "    <tr>\n",
              "      <th>5</th>\n",
              "      <td>1</td>\n",
              "      <td>2</td>\n",
              "      <td>3</td>\n",
              "      <td>5</td>\n",
              "      <td>12.562300</td>\n",
              "      <td>tri yet gave social sad hunger block free peop...</td>\n",
              "    </tr>\n",
              "    <tr>\n",
              "      <th>6</th>\n",
              "      <td>1</td>\n",
              "      <td>0</td>\n",
              "      <td>1</td>\n",
              "      <td>6</td>\n",
              "      <td>10.312937</td>\n",
              "      <td>tri yet gave social sad hunger block free peop...</td>\n",
              "    </tr>\n",
              "    <tr>\n",
              "      <th>7</th>\n",
              "      <td>1</td>\n",
              "      <td>5</td>\n",
              "      <td>6</td>\n",
              "      <td>7</td>\n",
              "      <td>9.748248</td>\n",
              "      <td>tri yet gave social sad hunger block free peop...</td>\n",
              "    </tr>\n",
              "    <tr>\n",
              "      <th>8</th>\n",
              "      <td>1</td>\n",
              "      <td>3</td>\n",
              "      <td>4</td>\n",
              "      <td>8</td>\n",
              "      <td>9.390903</td>\n",
              "      <td>tri yet gave social sad hunger block free peop...</td>\n",
              "    </tr>\n",
              "    <tr>\n",
              "      <th>9</th>\n",
              "      <td>1</td>\n",
              "      <td>1</td>\n",
              "      <td>2</td>\n",
              "      <td>9</td>\n",
              "      <td>4.174227</td>\n",
              "      <td>tri yet gave social sad hunger block free peop...</td>\n",
              "    </tr>\n",
              "    <tr>\n",
              "      <th>10</th>\n",
              "      <td>1</td>\n",
              "      <td>8</td>\n",
              "      <td>9</td>\n",
              "      <td>10</td>\n",
              "      <td>1.313054</td>\n",
              "      <td>tri yet gave social sad hunger block free peop...</td>\n",
              "    </tr>\n",
              "  </tbody>\n",
              "</table>\n",
              "</div>\n",
              "      <button class=\"colab-df-convert\" onclick=\"convertToInteractive('df-81e10118-33c6-4477-bc20-24b342717bd3')\"\n",
              "              title=\"Convert this dataframe to an interactive table.\"\n",
              "              style=\"display:none;\">\n",
              "        \n",
              "  <svg xmlns=\"http://www.w3.org/2000/svg\" height=\"24px\"viewBox=\"0 0 24 24\"\n",
              "       width=\"24px\">\n",
              "    <path d=\"M0 0h24v24H0V0z\" fill=\"none\"/>\n",
              "    <path d=\"M18.56 5.44l.94 2.06.94-2.06 2.06-.94-2.06-.94-.94-2.06-.94 2.06-2.06.94zm-11 1L8.5 8.5l.94-2.06 2.06-.94-2.06-.94L8.5 2.5l-.94 2.06-2.06.94zm10 10l.94 2.06.94-2.06 2.06-.94-2.06-.94-.94-2.06-.94 2.06-2.06.94z\"/><path d=\"M17.41 7.96l-1.37-1.37c-.4-.4-.92-.59-1.43-.59-.52 0-1.04.2-1.43.59L10.3 9.45l-7.72 7.72c-.78.78-.78 2.05 0 2.83L4 21.41c.39.39.9.59 1.41.59.51 0 1.02-.2 1.41-.59l7.78-7.78 2.81-2.81c.8-.78.8-2.07 0-2.86zM5.41 20L4 18.59l7.72-7.72 1.47 1.35L5.41 20z\"/>\n",
              "  </svg>\n",
              "      </button>\n",
              "      \n",
              "  <style>\n",
              "    .colab-df-container {\n",
              "      display:flex;\n",
              "      flex-wrap:wrap;\n",
              "      gap: 12px;\n",
              "    }\n",
              "\n",
              "    .colab-df-convert {\n",
              "      background-color: #E8F0FE;\n",
              "      border: none;\n",
              "      border-radius: 50%;\n",
              "      cursor: pointer;\n",
              "      display: none;\n",
              "      fill: #1967D2;\n",
              "      height: 32px;\n",
              "      padding: 0 0 0 0;\n",
              "      width: 32px;\n",
              "    }\n",
              "\n",
              "    .colab-df-convert:hover {\n",
              "      background-color: #E2EBFA;\n",
              "      box-shadow: 0px 1px 2px rgba(60, 64, 67, 0.3), 0px 1px 3px 1px rgba(60, 64, 67, 0.15);\n",
              "      fill: #174EA6;\n",
              "    }\n",
              "\n",
              "    [theme=dark] .colab-df-convert {\n",
              "      background-color: #3B4455;\n",
              "      fill: #D2E3FC;\n",
              "    }\n",
              "\n",
              "    [theme=dark] .colab-df-convert:hover {\n",
              "      background-color: #434B5C;\n",
              "      box-shadow: 0px 1px 3px 1px rgba(0, 0, 0, 0.15);\n",
              "      filter: drop-shadow(0px 1px 2px rgba(0, 0, 0, 0.3));\n",
              "      fill: #FFFFFF;\n",
              "    }\n",
              "  </style>\n",
              "\n",
              "      <script>\n",
              "        const buttonEl =\n",
              "          document.querySelector('#df-81e10118-33c6-4477-bc20-24b342717bd3 button.colab-df-convert');\n",
              "        buttonEl.style.display =\n",
              "          google.colab.kernel.accessAllowed ? 'block' : 'none';\n",
              "\n",
              "        async function convertToInteractive(key) {\n",
              "          const element = document.querySelector('#df-81e10118-33c6-4477-bc20-24b342717bd3');\n",
              "          const dataTable =\n",
              "            await google.colab.kernel.invokeFunction('convertToInteractive',\n",
              "                                                     [key], {});\n",
              "          if (!dataTable) return;\n",
              "\n",
              "          const docLinkHtml = 'Like what you see? Visit the ' +\n",
              "            '<a target=\"_blank\" href=https://colab.research.google.com/notebooks/data_table.ipynb>data table notebook</a>'\n",
              "            + ' to learn more about interactive tables.';\n",
              "          element.innerHTML = '';\n",
              "          dataTable['output_type'] = 'display_data';\n",
              "          await google.colab.output.renderOutput(dataTable, element);\n",
              "          const docLink = document.createElement('div');\n",
              "          docLink.innerHTML = docLinkHtml;\n",
              "          element.appendChild(docLink);\n",
              "        }\n",
              "      </script>\n",
              "    </div>\n",
              "  </div>\n",
              "  "
            ]
          },
          "metadata": {},
          "execution_count": 34
        }
      ]
    },
    {
      "cell_type": "markdown",
      "source": [
        "# Resultant links from InL2"
      ],
      "metadata": {
        "id": "I1HZRmhdoG0w"
      }
    },
    {
      "cell_type": "code",
      "source": [
        "ind = list(inl2[\"docid\"].astype(int))\n",
        "print(\"Top links for your query: \", queryTopic)\n",
        "for link in df_final.iloc[ind][\"urls\"]:\n",
        "  print(link)"
      ],
      "metadata": {
        "id": "FAEWZsnYhHRr",
        "outputId": "8d7729c6-e541-4196-8872-7ecfdd957a5a",
        "colab": {
          "base_uri": "https://localhost:8080/"
        }
      },
      "execution_count": 77,
      "outputs": [
        {
          "output_type": "stream",
          "name": "stdout",
          "text": [
            "Top links for your query:  elon\n",
            "https://maxread.substack.com/p/elon-musk-wont-fix-twitter-but-he\n",
            "https://nypost.com/2022/04/26/shaun-king-other-liberals-delete-twitter-in-protest-of-elon-musk/?utm_campaign=SocialFlow&utm_source=NYPTwitter&utm_medium=SocialFlow\n",
            "https://www.washingtonpost.com/opinions/2022/04/19/conservatives-cheering-elon-musk/\n",
            "https://www.reuters.com/technology/elon-musk-invest-up-15-bln-his-own-money-buy-twitter-nypost-2022-04-19/?taid=625efd552d4cd2000149ee2e&utm_campaign=trueAnthem:+Trending+Content&utm_medium=trueAnthem&utm_source=twitter\n",
            "https://www.foxnews.com/entertainment/hollywood-reacts-elon-musk-buying-twitter\n",
            "https://www.tmz.com/2022/04/25/elon-musk-new-owner-twitter-43-billion-offer-accepted/?adid=social-twa\n",
            "https://nypost.com/2022/04/25/russia-appears-to-confuse-the-sims-for-sim-cards-in-possible-staged-assassination-attempt/\n",
            "https://watcher.guru/news/elon-musk-willing-to-invest-15-billion-to-take-over-twitter-sources-cite\n",
            "https://nypost.com/2022/04/19/ron-desantis-threatens-twitter-board-over-elon-musks-bid/?utm_campaign=SocialFlow&utm_source=NYPTwitter&utm_medium=SocialFlow\n",
            "https://www.independent.co.uk/tech/twitter-elon-musk-sale-buys-b2065182.html#Echobox=1650888159\n",
            "https://www.mypillow.com/\n"
          ]
        }
      ]
    },
    {
      "cell_type": "markdown",
      "source": [
        "\n",
        "\n",
        "# Kendal Tau"
      ],
      "metadata": {
        "id": "_hlfWN5LqLqL"
      }
    },
    {
      "cell_type": "code",
      "source": [
        "from scipy.stats import kendalltau"
      ],
      "metadata": {
        "id": "-i5pi3xtqOd1"
      },
      "execution_count": null,
      "outputs": []
    },
    {
      "cell_type": "markdown",
      "source": [
        "**base rank**"
      ],
      "metadata": {
        "id": "atxPE64abp8V"
      }
    },
    {
      "cell_type": "code",
      "source": [
        "base_rank = list(df_final[\"docno\"].astype(int))\n",
        "print(len(base_rank))\n",
        "base_rank"
      ],
      "metadata": {
        "id": "RzhTZbyTqoiw",
        "colab": {
          "base_uri": "https://localhost:8080/"
        },
        "outputId": "35fe05cb-d8bf-47b8-fd93-1ed5d946c1f1"
      },
      "execution_count": null,
      "outputs": [
        {
          "output_type": "stream",
          "name": "stdout",
          "text": [
            "11\n"
          ]
        },
        {
          "output_type": "execute_result",
          "data": {
            "text/plain": [
              "[1, 2, 3, 4, 5, 6, 7, 8, 9, 10, 11]"
            ]
          },
          "metadata": {},
          "execution_count": 37
        }
      ]
    },
    {
      "cell_type": "markdown",
      "source": [
        "**terrier tf-idf rank**"
      ],
      "metadata": {
        "id": "1VcWWMwmbiC7"
      }
    },
    {
      "cell_type": "code",
      "source": [
        "new_rank = list(tf_idf[\"docno\"].astype(int))\n",
        "print(len(new_rank))\n",
        "new_rank"
      ],
      "metadata": {
        "id": "u7h4Afafq8WW",
        "colab": {
          "base_uri": "https://localhost:8080/"
        },
        "outputId": "a6d077c5-8521-4977-c65d-393420bd9ca9"
      },
      "execution_count": null,
      "outputs": [
        {
          "output_type": "stream",
          "name": "stdout",
          "text": [
            "11\n"
          ]
        },
        {
          "output_type": "execute_result",
          "data": {
            "text/plain": [
              "[11, 8, 5, 7, 10, 3, 6, 4, 1, 2, 9]"
            ]
          },
          "metadata": {},
          "execution_count": 38
        }
      ]
    },
    {
      "cell_type": "markdown",
      "source": [
        "**Calculating Kendall Rank correlation (base rank, terrier tf-idf rank)**"
      ],
      "metadata": {
        "id": "dLcHQygjb3UM"
      }
    },
    {
      "cell_type": "code",
      "source": [
        "# Calculating Kendall Rank correlation\n",
        "corr, _ = kendalltau(base_rank, new_rank)\n",
        "print('Kendall Rank correlation: %.5f' % corr)"
      ],
      "metadata": {
        "colab": {
          "base_uri": "https://localhost:8080/"
        },
        "id": "FX-kWFOtrcwh",
        "outputId": "0f33c3b2-2768-431f-d716-c6f006a8b2f1"
      },
      "execution_count": null,
      "outputs": [
        {
          "output_type": "stream",
          "name": "stdout",
          "text": [
            "Kendall Rank correlation: -0.41818\n"
          ]
        }
      ]
    },
    {
      "cell_type": "markdown",
      "source": [
        "**terrier pl2 rank**"
      ],
      "metadata": {
        "id": "FxqCbysnrIfi"
      }
    },
    {
      "cell_type": "code",
      "source": [
        "new_rank = list(pl2[\"docno\"].astype(int))\n",
        "print(len(new_rank))\n",
        "new_rank"
      ],
      "metadata": {
        "id": "QMNoHHTlrIfj",
        "colab": {
          "base_uri": "https://localhost:8080/"
        },
        "outputId": "dd2e52e4-88b5-4536-b60d-8600cf31167e"
      },
      "execution_count": null,
      "outputs": [
        {
          "output_type": "stream",
          "name": "stdout",
          "text": [
            "11\n"
          ]
        },
        {
          "output_type": "execute_result",
          "data": {
            "text/plain": [
              "[7, 11, 5, 8, 3, 10, 1, 6, 4, 2, 9]"
            ]
          },
          "metadata": {},
          "execution_count": 40
        }
      ]
    },
    {
      "cell_type": "markdown",
      "source": [
        "**Calculating Kendall Rank correlation (base rank, terrier pl2 rank)**"
      ],
      "metadata": {
        "id": "CSJjV6UlrIfk"
      }
    },
    {
      "cell_type": "code",
      "source": [
        "# Calculating Kendall Rank correlation\n",
        "corr, _ = kendalltau(base_rank, new_rank)\n",
        "print('Kendall Rank correlation: %.5f' % corr)"
      ],
      "metadata": {
        "colab": {
          "base_uri": "https://localhost:8080/"
        },
        "outputId": "3a83d3c6-83ed-4e46-dbcf-9a9658e4239e",
        "id": "_YYOsrn9rIfk"
      },
      "execution_count": null,
      "outputs": [
        {
          "output_type": "stream",
          "name": "stdout",
          "text": [
            "Kendall Rank correlation: -0.23636\n"
          ]
        }
      ]
    },
    {
      "cell_type": "markdown",
      "source": [
        "**terrier inl2 rank**"
      ],
      "metadata": {
        "id": "NLz6JUXxrdQr"
      }
    },
    {
      "cell_type": "code",
      "source": [
        "new_rank = list(inl2[\"docno\"].astype(int))\n",
        "print(len(new_rank))\n",
        "new_rank"
      ],
      "metadata": {
        "id": "AqoIoypdrdQr",
        "colab": {
          "base_uri": "https://localhost:8080/"
        },
        "outputId": "eb9bd2dc-10e9-4abe-e375-831b42b18bfd"
      },
      "execution_count": null,
      "outputs": [
        {
          "output_type": "stream",
          "name": "stdout",
          "text": [
            "11\n"
          ]
        },
        {
          "output_type": "execute_result",
          "data": {
            "text/plain": [
              "[11, 8, 5, 7, 10, 3, 1, 6, 4, 2, 9]"
            ]
          },
          "metadata": {},
          "execution_count": 42
        }
      ]
    },
    {
      "cell_type": "markdown",
      "source": [
        "**Calculating Kendall Rank correlation (base rank, terrier inl2 rank)**"
      ],
      "metadata": {
        "id": "jN_rN1MKrdQr"
      }
    },
    {
      "cell_type": "code",
      "source": [
        "# Calculating Kendall Rank correlation\n",
        "corr, _ = kendalltau(base_rank, new_rank)\n",
        "print('Kendall Rank correlation: %.5f' % corr)"
      ],
      "metadata": {
        "colab": {
          "base_uri": "https://localhost:8080/"
        },
        "outputId": "0f65708d-3cc1-46cd-eea2-5ade2d84f18a",
        "id": "lHGsDcvardQs"
      },
      "execution_count": null,
      "outputs": [
        {
          "output_type": "stream",
          "name": "stdout",
          "text": [
            "Kendall Rank correlation: -0.34545\n"
          ]
        }
      ]
    },
    {
      "cell_type": "markdown",
      "source": [
        "**bm25 rank** "
      ],
      "metadata": {
        "id": "5cQZm9EEctPz"
      }
    },
    {
      "cell_type": "code",
      "source": [
        "new_rank = list(df_final.sort_values(\"bm25_score\", ascending = False)[\"docno\"].astype(int))\n",
        "new_rank"
      ],
      "metadata": {
        "id": "2m21QK5Dr-xD",
        "colab": {
          "base_uri": "https://localhost:8080/"
        },
        "outputId": "9b494074-85e8-4527-f924-35d9456d602f"
      },
      "execution_count": null,
      "outputs": [
        {
          "output_type": "execute_result",
          "data": {
            "text/plain": [
              "[11, 5, 8, 7, 3, 10, 6, 4, 1, 2, 9]"
            ]
          },
          "metadata": {},
          "execution_count": 44
        }
      ]
    },
    {
      "cell_type": "markdown",
      "source": [
        "**Calculating Kendall Rank correlation (base rank, bm25 rank)**"
      ],
      "metadata": {
        "id": "9Bb1vc7nc9Xz"
      }
    },
    {
      "cell_type": "code",
      "source": [
        "corr, _ = kendalltau(base_rank, new_rank)\n",
        "print('Kendall Rank correlation: %.5f' % corr)"
      ],
      "metadata": {
        "colab": {
          "base_uri": "https://localhost:8080/"
        },
        "id": "uRdhMvUmtAzS",
        "outputId": "4c2d613b-0654-4f85-907b-2168bc1b6e1c"
      },
      "execution_count": null,
      "outputs": [
        {
          "output_type": "stream",
          "name": "stdout",
          "text": [
            "Kendall Rank correlation: -0.34545\n"
          ]
        }
      ]
    },
    {
      "cell_type": "markdown",
      "source": [
        "# RBO (Rank Based Overlap)"
      ],
      "metadata": {
        "id": "WtZiAQ31dQCX"
      }
    },
    {
      "cell_type": "code",
      "source": [
        "import rbo"
      ],
      "metadata": {
        "id": "FLqNyBtNt97H"
      },
      "execution_count": null,
      "outputs": []
    },
    {
      "cell_type": "markdown",
      "source": [
        "**base rank**"
      ],
      "metadata": {
        "id": "O_H-IyHUdzIX"
      }
    },
    {
      "cell_type": "code",
      "source": [
        "base_rank = list(df_final[\"docno\"].astype(int))\n",
        "base_rank"
      ],
      "metadata": {
        "id": "P_ztg78adzIY",
        "colab": {
          "base_uri": "https://localhost:8080/"
        },
        "outputId": "9ba09941-01a5-4fca-84b3-8e8acd7a6da0"
      },
      "execution_count": null,
      "outputs": [
        {
          "output_type": "execute_result",
          "data": {
            "text/plain": [
              "[1, 2, 3, 4, 5, 6, 7, 8, 9, 10, 11]"
            ]
          },
          "metadata": {},
          "execution_count": 47
        }
      ]
    },
    {
      "cell_type": "markdown",
      "source": [
        "**terrier tf-idf rank**"
      ],
      "metadata": {
        "id": "V4CqLTURdzIZ"
      }
    },
    {
      "cell_type": "code",
      "source": [
        "new_rank = list(tf_idf[\"docno\"].astype(int))\n",
        "new_rank"
      ],
      "metadata": {
        "id": "zczvLoWSdzIZ",
        "colab": {
          "base_uri": "https://localhost:8080/"
        },
        "outputId": "f24a7bb5-f677-4aed-8a94-345c202115fa"
      },
      "execution_count": null,
      "outputs": [
        {
          "output_type": "execute_result",
          "data": {
            "text/plain": [
              "[11, 8, 5, 7, 10, 3, 6, 4, 1, 2, 9]"
            ]
          },
          "metadata": {},
          "execution_count": 48
        }
      ]
    },
    {
      "cell_type": "markdown",
      "source": [
        "**Calculating RBO Rank correlation (base rank, terrier tf-idf rank)**"
      ],
      "metadata": {
        "id": "CfXVY0CPd8xn"
      }
    },
    {
      "cell_type": "code",
      "source": [
        "rbo.RankingSimilarity(base_rank, new_rank).rbo()"
      ],
      "metadata": {
        "colab": {
          "base_uri": "https://localhost:8080/"
        },
        "id": "9BxlwKQ5tzR1",
        "outputId": "78ec3317-4461-4f2d-a7f0-ea0bcd841484"
      },
      "execution_count": null,
      "outputs": [
        {
          "output_type": "execute_result",
          "data": {
            "text/plain": [
              "0.41204906204906205"
            ]
          },
          "metadata": {},
          "execution_count": 49
        }
      ]
    },
    {
      "cell_type": "markdown",
      "source": [
        "**terrier pl2 rank**"
      ],
      "metadata": {
        "id": "oMUUkGzOr51D"
      }
    },
    {
      "cell_type": "code",
      "source": [
        "new_rank = list(pl2[\"docno\"].astype(int))\n",
        "new_rank"
      ],
      "metadata": {
        "id": "X5mWmel-r51E",
        "colab": {
          "base_uri": "https://localhost:8080/"
        },
        "outputId": "7aaab5d3-1aa5-47e1-e1d3-7dc92086c4b8"
      },
      "execution_count": null,
      "outputs": [
        {
          "output_type": "execute_result",
          "data": {
            "text/plain": [
              "[7, 11, 5, 8, 3, 10, 1, 6, 4, 2, 9]"
            ]
          },
          "metadata": {},
          "execution_count": 50
        }
      ]
    },
    {
      "cell_type": "markdown",
      "source": [
        "**Calculating RBO Rank correlation (base rank, terrier pl2 rank)**"
      ],
      "metadata": {
        "id": "El19CIyir51F"
      }
    },
    {
      "cell_type": "code",
      "source": [
        "rbo.RankingSimilarity(base_rank, new_rank).rbo()"
      ],
      "metadata": {
        "colab": {
          "base_uri": "https://localhost:8080/"
        },
        "id": "oe0SgCZer51F",
        "outputId": "1803c7b8-d164-4213-f3df-40fb3d1ec962"
      },
      "execution_count": null,
      "outputs": [
        {
          "output_type": "execute_result",
          "data": {
            "text/plain": [
              "0.43023088023088024"
            ]
          },
          "metadata": {},
          "execution_count": 51
        }
      ]
    },
    {
      "cell_type": "markdown",
      "source": [
        "**terrier inl2 rank**"
      ],
      "metadata": {
        "id": "oVyRJmdIsGLe"
      }
    },
    {
      "cell_type": "code",
      "source": [
        "new_rank = list(inl2[\"docno\"].astype(int))\n",
        "new_rank"
      ],
      "metadata": {
        "id": "bMNWTuNisGLf",
        "colab": {
          "base_uri": "https://localhost:8080/"
        },
        "outputId": "6360fd27-cac4-457b-c9ac-44f1209ea308"
      },
      "execution_count": null,
      "outputs": [
        {
          "output_type": "execute_result",
          "data": {
            "text/plain": [
              "[11, 8, 5, 7, 10, 3, 1, 6, 4, 2, 9]"
            ]
          },
          "metadata": {},
          "execution_count": 52
        }
      ]
    },
    {
      "cell_type": "markdown",
      "source": [
        "**Calculating RBO Rank correlation (base rank, terrier inl2 rank)**"
      ],
      "metadata": {
        "id": "SfQuZsJLsGLg"
      }
    },
    {
      "cell_type": "code",
      "source": [
        "rbo.RankingSimilarity(base_rank, new_rank).rbo()"
      ],
      "metadata": {
        "colab": {
          "base_uri": "https://localhost:8080/"
        },
        "outputId": "8cb40123-2f0f-49b6-f6d8-9b4192b9f847",
        "id": "YUcuPP5PsGLh"
      },
      "execution_count": null,
      "outputs": [
        {
          "output_type": "execute_result",
          "data": {
            "text/plain": [
              "0.41204906204906205"
            ]
          },
          "metadata": {},
          "execution_count": 53
        }
      ]
    },
    {
      "cell_type": "markdown",
      "source": [
        "**bm25 rank** "
      ],
      "metadata": {
        "id": "egrUPquGeNsc"
      }
    },
    {
      "cell_type": "code",
      "source": [
        "new_rank = list(df_final.sort_values(\"bm25_score\", ascending = False)[\"docno\"].astype(int))\n",
        "new_rank"
      ],
      "metadata": {
        "id": "ljVYglN8eNsd",
        "colab": {
          "base_uri": "https://localhost:8080/"
        },
        "outputId": "791bbce0-5658-41ae-b8f0-9eb47a4c0edf"
      },
      "execution_count": null,
      "outputs": [
        {
          "output_type": "execute_result",
          "data": {
            "text/plain": [
              "[11, 5, 8, 7, 3, 10, 6, 4, 1, 2, 9]"
            ]
          },
          "metadata": {},
          "execution_count": 54
        }
      ]
    },
    {
      "cell_type": "markdown",
      "source": [
        "**Calculating RBO Rank correlation (base rank, bm25 rank)**"
      ],
      "metadata": {
        "id": "RcgP-aAweNse"
      }
    },
    {
      "cell_type": "code",
      "source": [
        "rbo.RankingSimilarity(base_rank, new_rank).rbo()"
      ],
      "metadata": {
        "colab": {
          "base_uri": "https://localhost:8080/"
        },
        "outputId": "fd7d627f-1f64-4c79-e645-597b0430a09f",
        "id": "vuZK5kBseNse"
      },
      "execution_count": null,
      "outputs": [
        {
          "output_type": "execute_result",
          "data": {
            "text/plain": [
              "0.43023088023088024"
            ]
          },
          "metadata": {},
          "execution_count": 55
        }
      ]
    }
  ]
}